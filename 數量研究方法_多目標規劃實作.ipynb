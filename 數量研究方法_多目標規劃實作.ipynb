{
  "cells": [
    {
      "cell_type": "markdown",
      "metadata": {
        "id": "view-in-github",
        "colab_type": "text"
      },
      "source": [
        "<a href=\"https://colab.research.google.com/github/EricMiao01/Scheduling_Problem/blob/main/%E6%95%B8%E9%87%8F%E7%A0%94%E7%A9%B6%E6%96%B9%E6%B3%95_%E5%A4%9A%E7%9B%AE%E6%A8%99%E8%A6%8F%E5%8A%83%E5%AF%A6%E4%BD%9C.ipynb\" target=\"_parent\"><img src=\"https://colab.research.google.com/assets/colab-badge.svg\" alt=\"Open In Colab\"/></a>"
      ]
    },
    {
      "cell_type": "markdown",
      "id": "78b632eb",
      "metadata": {
        "id": "78b632eb"
      },
      "source": [
        "## **取得員工可上班日調查表**"
      ]
    },
    {
      "cell_type": "code",
      "execution_count": null,
      "id": "737e7a93",
      "metadata": {
        "ExecuteTime": {
          "end_time": "2023-06-07T15:03:52.337909Z",
          "start_time": "2023-06-07T15:03:51.515071Z"
        },
        "id": "737e7a93"
      },
      "outputs": [],
      "source": [
        "import pandas as pd\n",
        "import numpy as np"
      ]
    },
    {
      "cell_type": "code",
      "execution_count": null,
      "id": "180b6a39",
      "metadata": {
        "ExecuteTime": {
          "end_time": "2023-06-07T15:03:52.350602Z",
          "start_time": "2023-06-07T15:03:52.340491Z"
        },
        "id": "180b6a39"
      },
      "outputs": [],
      "source": [
        "seed_value = 5201314  # 設定種子值\n",
        "np.random.seed(seed_value)  # 固定隨機數生成器的種子\n",
        "data = np.random.randint(0, 2, size = (15, 10)) # 生成15位員工在10個工作天中的可出席日"
      ]
    },
    {
      "cell_type": "code",
      "execution_count": null,
      "id": "2dc6c02f",
      "metadata": {
        "ExecuteTime": {
          "end_time": "2023-06-07T15:03:52.401969Z",
          "start_time": "2023-06-07T15:03:52.350602Z"
        },
        "colab": {
          "base_uri": "https://localhost:8080/",
          "height": 551
        },
        "id": "2dc6c02f",
        "outputId": "1a0bdf10-5f77-4273-cebb-c06129d21ecd"
      },
      "outputs": [
        {
          "output_type": "execute_result",
          "data": {
            "text/plain": [
              "WorkDay   1  2  3  4  5  6  7  8  9  10\n",
              "Employee                               \n",
              "0         0  0  1  0  0  0  0  0  0   1\n",
              "1         0  1  1  0  0  0  0  0  0   0\n",
              "2         1  0  0  0  0  1  1  0  0   1\n",
              "3         0  1  0  0  1  1  0  0  1   1\n",
              "4         1  1  0  1  1  0  0  0  1   1\n",
              "5         0  1  1  1  0  0  1  0  0   0\n",
              "6         0  1  1  1  0  0  0  0  0   0\n",
              "7         0  1  1  1  0  0  1  1  1   0\n",
              "8         1  0  1  1  1  1  0  0  0   0\n",
              "9         1  0  1  0  0  1  0  0  1   1\n",
              "10        0  0  0  1  0  1  0  1  0   0\n",
              "11        0  0  0  0  0  1  1  0  0   1\n",
              "12        0  0  1  0  1  1  0  1  0   1\n",
              "13        0  1  0  1  0  0  0  1  1   0\n",
              "14        1  0  0  0  0  1  1  0  0   0"
            ],
            "text/html": [
              "\n",
              "  <div id=\"df-a1f17662-4a4f-499b-b8f8-132412425ba6\">\n",
              "    <div class=\"colab-df-container\">\n",
              "      <div>\n",
              "<style scoped>\n",
              "    .dataframe tbody tr th:only-of-type {\n",
              "        vertical-align: middle;\n",
              "    }\n",
              "\n",
              "    .dataframe tbody tr th {\n",
              "        vertical-align: top;\n",
              "    }\n",
              "\n",
              "    .dataframe thead th {\n",
              "        text-align: right;\n",
              "    }\n",
              "</style>\n",
              "<table border=\"1\" class=\"dataframe\">\n",
              "  <thead>\n",
              "    <tr style=\"text-align: right;\">\n",
              "      <th>WorkDay</th>\n",
              "      <th>1</th>\n",
              "      <th>2</th>\n",
              "      <th>3</th>\n",
              "      <th>4</th>\n",
              "      <th>5</th>\n",
              "      <th>6</th>\n",
              "      <th>7</th>\n",
              "      <th>8</th>\n",
              "      <th>9</th>\n",
              "      <th>10</th>\n",
              "    </tr>\n",
              "    <tr>\n",
              "      <th>Employee</th>\n",
              "      <th></th>\n",
              "      <th></th>\n",
              "      <th></th>\n",
              "      <th></th>\n",
              "      <th></th>\n",
              "      <th></th>\n",
              "      <th></th>\n",
              "      <th></th>\n",
              "      <th></th>\n",
              "      <th></th>\n",
              "    </tr>\n",
              "  </thead>\n",
              "  <tbody>\n",
              "    <tr>\n",
              "      <th>0</th>\n",
              "      <td>0</td>\n",
              "      <td>0</td>\n",
              "      <td>1</td>\n",
              "      <td>0</td>\n",
              "      <td>0</td>\n",
              "      <td>0</td>\n",
              "      <td>0</td>\n",
              "      <td>0</td>\n",
              "      <td>0</td>\n",
              "      <td>1</td>\n",
              "    </tr>\n",
              "    <tr>\n",
              "      <th>1</th>\n",
              "      <td>0</td>\n",
              "      <td>1</td>\n",
              "      <td>1</td>\n",
              "      <td>0</td>\n",
              "      <td>0</td>\n",
              "      <td>0</td>\n",
              "      <td>0</td>\n",
              "      <td>0</td>\n",
              "      <td>0</td>\n",
              "      <td>0</td>\n",
              "    </tr>\n",
              "    <tr>\n",
              "      <th>2</th>\n",
              "      <td>1</td>\n",
              "      <td>0</td>\n",
              "      <td>0</td>\n",
              "      <td>0</td>\n",
              "      <td>0</td>\n",
              "      <td>1</td>\n",
              "      <td>1</td>\n",
              "      <td>0</td>\n",
              "      <td>0</td>\n",
              "      <td>1</td>\n",
              "    </tr>\n",
              "    <tr>\n",
              "      <th>3</th>\n",
              "      <td>0</td>\n",
              "      <td>1</td>\n",
              "      <td>0</td>\n",
              "      <td>0</td>\n",
              "      <td>1</td>\n",
              "      <td>1</td>\n",
              "      <td>0</td>\n",
              "      <td>0</td>\n",
              "      <td>1</td>\n",
              "      <td>1</td>\n",
              "    </tr>\n",
              "    <tr>\n",
              "      <th>4</th>\n",
              "      <td>1</td>\n",
              "      <td>1</td>\n",
              "      <td>0</td>\n",
              "      <td>1</td>\n",
              "      <td>1</td>\n",
              "      <td>0</td>\n",
              "      <td>0</td>\n",
              "      <td>0</td>\n",
              "      <td>1</td>\n",
              "      <td>1</td>\n",
              "    </tr>\n",
              "    <tr>\n",
              "      <th>5</th>\n",
              "      <td>0</td>\n",
              "      <td>1</td>\n",
              "      <td>1</td>\n",
              "      <td>1</td>\n",
              "      <td>0</td>\n",
              "      <td>0</td>\n",
              "      <td>1</td>\n",
              "      <td>0</td>\n",
              "      <td>0</td>\n",
              "      <td>0</td>\n",
              "    </tr>\n",
              "    <tr>\n",
              "      <th>6</th>\n",
              "      <td>0</td>\n",
              "      <td>1</td>\n",
              "      <td>1</td>\n",
              "      <td>1</td>\n",
              "      <td>0</td>\n",
              "      <td>0</td>\n",
              "      <td>0</td>\n",
              "      <td>0</td>\n",
              "      <td>0</td>\n",
              "      <td>0</td>\n",
              "    </tr>\n",
              "    <tr>\n",
              "      <th>7</th>\n",
              "      <td>0</td>\n",
              "      <td>1</td>\n",
              "      <td>1</td>\n",
              "      <td>1</td>\n",
              "      <td>0</td>\n",
              "      <td>0</td>\n",
              "      <td>1</td>\n",
              "      <td>1</td>\n",
              "      <td>1</td>\n",
              "      <td>0</td>\n",
              "    </tr>\n",
              "    <tr>\n",
              "      <th>8</th>\n",
              "      <td>1</td>\n",
              "      <td>0</td>\n",
              "      <td>1</td>\n",
              "      <td>1</td>\n",
              "      <td>1</td>\n",
              "      <td>1</td>\n",
              "      <td>0</td>\n",
              "      <td>0</td>\n",
              "      <td>0</td>\n",
              "      <td>0</td>\n",
              "    </tr>\n",
              "    <tr>\n",
              "      <th>9</th>\n",
              "      <td>1</td>\n",
              "      <td>0</td>\n",
              "      <td>1</td>\n",
              "      <td>0</td>\n",
              "      <td>0</td>\n",
              "      <td>1</td>\n",
              "      <td>0</td>\n",
              "      <td>0</td>\n",
              "      <td>1</td>\n",
              "      <td>1</td>\n",
              "    </tr>\n",
              "    <tr>\n",
              "      <th>10</th>\n",
              "      <td>0</td>\n",
              "      <td>0</td>\n",
              "      <td>0</td>\n",
              "      <td>1</td>\n",
              "      <td>0</td>\n",
              "      <td>1</td>\n",
              "      <td>0</td>\n",
              "      <td>1</td>\n",
              "      <td>0</td>\n",
              "      <td>0</td>\n",
              "    </tr>\n",
              "    <tr>\n",
              "      <th>11</th>\n",
              "      <td>0</td>\n",
              "      <td>0</td>\n",
              "      <td>0</td>\n",
              "      <td>0</td>\n",
              "      <td>0</td>\n",
              "      <td>1</td>\n",
              "      <td>1</td>\n",
              "      <td>0</td>\n",
              "      <td>0</td>\n",
              "      <td>1</td>\n",
              "    </tr>\n",
              "    <tr>\n",
              "      <th>12</th>\n",
              "      <td>0</td>\n",
              "      <td>0</td>\n",
              "      <td>1</td>\n",
              "      <td>0</td>\n",
              "      <td>1</td>\n",
              "      <td>1</td>\n",
              "      <td>0</td>\n",
              "      <td>1</td>\n",
              "      <td>0</td>\n",
              "      <td>1</td>\n",
              "    </tr>\n",
              "    <tr>\n",
              "      <th>13</th>\n",
              "      <td>0</td>\n",
              "      <td>1</td>\n",
              "      <td>0</td>\n",
              "      <td>1</td>\n",
              "      <td>0</td>\n",
              "      <td>0</td>\n",
              "      <td>0</td>\n",
              "      <td>1</td>\n",
              "      <td>1</td>\n",
              "      <td>0</td>\n",
              "    </tr>\n",
              "    <tr>\n",
              "      <th>14</th>\n",
              "      <td>1</td>\n",
              "      <td>0</td>\n",
              "      <td>0</td>\n",
              "      <td>0</td>\n",
              "      <td>0</td>\n",
              "      <td>1</td>\n",
              "      <td>1</td>\n",
              "      <td>0</td>\n",
              "      <td>0</td>\n",
              "      <td>0</td>\n",
              "    </tr>\n",
              "  </tbody>\n",
              "</table>\n",
              "</div>\n",
              "      <button class=\"colab-df-convert\" onclick=\"convertToInteractive('df-a1f17662-4a4f-499b-b8f8-132412425ba6')\"\n",
              "              title=\"Convert this dataframe to an interactive table.\"\n",
              "              style=\"display:none;\">\n",
              "        \n",
              "  <svg xmlns=\"http://www.w3.org/2000/svg\" height=\"24px\"viewBox=\"0 0 24 24\"\n",
              "       width=\"24px\">\n",
              "    <path d=\"M0 0h24v24H0V0z\" fill=\"none\"/>\n",
              "    <path d=\"M18.56 5.44l.94 2.06.94-2.06 2.06-.94-2.06-.94-.94-2.06-.94 2.06-2.06.94zm-11 1L8.5 8.5l.94-2.06 2.06-.94-2.06-.94L8.5 2.5l-.94 2.06-2.06.94zm10 10l.94 2.06.94-2.06 2.06-.94-2.06-.94-.94-2.06-.94 2.06-2.06.94z\"/><path d=\"M17.41 7.96l-1.37-1.37c-.4-.4-.92-.59-1.43-.59-.52 0-1.04.2-1.43.59L10.3 9.45l-7.72 7.72c-.78.78-.78 2.05 0 2.83L4 21.41c.39.39.9.59 1.41.59.51 0 1.02-.2 1.41-.59l7.78-7.78 2.81-2.81c.8-.78.8-2.07 0-2.86zM5.41 20L4 18.59l7.72-7.72 1.47 1.35L5.41 20z\"/>\n",
              "  </svg>\n",
              "      </button>\n",
              "      \n",
              "  <style>\n",
              "    .colab-df-container {\n",
              "      display:flex;\n",
              "      flex-wrap:wrap;\n",
              "      gap: 12px;\n",
              "    }\n",
              "\n",
              "    .colab-df-convert {\n",
              "      background-color: #E8F0FE;\n",
              "      border: none;\n",
              "      border-radius: 50%;\n",
              "      cursor: pointer;\n",
              "      display: none;\n",
              "      fill: #1967D2;\n",
              "      height: 32px;\n",
              "      padding: 0 0 0 0;\n",
              "      width: 32px;\n",
              "    }\n",
              "\n",
              "    .colab-df-convert:hover {\n",
              "      background-color: #E2EBFA;\n",
              "      box-shadow: 0px 1px 2px rgba(60, 64, 67, 0.3), 0px 1px 3px 1px rgba(60, 64, 67, 0.15);\n",
              "      fill: #174EA6;\n",
              "    }\n",
              "\n",
              "    [theme=dark] .colab-df-convert {\n",
              "      background-color: #3B4455;\n",
              "      fill: #D2E3FC;\n",
              "    }\n",
              "\n",
              "    [theme=dark] .colab-df-convert:hover {\n",
              "      background-color: #434B5C;\n",
              "      box-shadow: 0px 1px 3px 1px rgba(0, 0, 0, 0.15);\n",
              "      filter: drop-shadow(0px 1px 2px rgba(0, 0, 0, 0.3));\n",
              "      fill: #FFFFFF;\n",
              "    }\n",
              "  </style>\n",
              "\n",
              "      <script>\n",
              "        const buttonEl =\n",
              "          document.querySelector('#df-a1f17662-4a4f-499b-b8f8-132412425ba6 button.colab-df-convert');\n",
              "        buttonEl.style.display =\n",
              "          google.colab.kernel.accessAllowed ? 'block' : 'none';\n",
              "\n",
              "        async function convertToInteractive(key) {\n",
              "          const element = document.querySelector('#df-a1f17662-4a4f-499b-b8f8-132412425ba6');\n",
              "          const dataTable =\n",
              "            await google.colab.kernel.invokeFunction('convertToInteractive',\n",
              "                                                     [key], {});\n",
              "          if (!dataTable) return;\n",
              "\n",
              "          const docLinkHtml = 'Like what you see? Visit the ' +\n",
              "            '<a target=\"_blank\" href=https://colab.research.google.com/notebooks/data_table.ipynb>data table notebook</a>'\n",
              "            + ' to learn more about interactive tables.';\n",
              "          element.innerHTML = '';\n",
              "          dataTable['output_type'] = 'display_data';\n",
              "          await google.colab.output.renderOutput(dataTable, element);\n",
              "          const docLink = document.createElement('div');\n",
              "          docLink.innerHTML = docLinkHtml;\n",
              "          element.appendChild(docLink);\n",
              "        }\n",
              "      </script>\n",
              "    </div>\n",
              "  </div>\n",
              "  "
            ]
          },
          "metadata": {},
          "execution_count": 10
        }
      ],
      "source": [
        "df = pd.DataFrame(data, columns = [str(i) for i in range(1, 11)])\n",
        "df.columns.name = 'WorkDay'\n",
        "df.index.name = 'Employee'\n",
        "df # 模擬預先調查員工下月可出席工作日"
      ]
    },
    {
      "cell_type": "markdown",
      "id": "638e7fe0",
      "metadata": {
        "id": "638e7fe0"
      },
      "source": [
        "## **設定公司每個上班日所需人數**"
      ]
    },
    {
      "cell_type": "code",
      "execution_count": null,
      "id": "beaa7955",
      "metadata": {
        "ExecuteTime": {
          "end_time": "2023-06-07T15:03:52.417927Z",
          "start_time": "2023-06-07T15:03:52.404961Z"
        },
        "id": "beaa7955"
      },
      "outputs": [],
      "source": [
        "# 公司每個上班日需要的員工數量\n",
        "workdayRequirements = {\n",
        "    '1': 2,\n",
        "    '2': 3,\n",
        "    '3': 2,\n",
        "    '4': 2,\n",
        "    '5': 3,\n",
        "    '6': 1,\n",
        "    '7': 2,\n",
        "    '8': 2,\n",
        "    '9': 2,\n",
        "    '10': 1\n",
        "}"
      ]
    },
    {
      "cell_type": "markdown",
      "id": "9c7330e1",
      "metadata": {
        "id": "9c7330e1"
      },
      "source": [
        "## **設定每日人事成本**"
      ]
    },
    {
      "cell_type": "code",
      "execution_count": null,
      "id": "d11e6143",
      "metadata": {
        "ExecuteTime": {
          "end_time": "2023-06-07T15:03:52.434237Z",
          "start_time": "2023-06-07T15:03:52.420919Z"
        },
        "id": "d11e6143"
      },
      "outputs": [],
      "source": [
        "daily_wage = 1600 # 8hr * 180NTW"
      ]
    },
    {
      "cell_type": "markdown",
      "id": "1eaf4e55",
      "metadata": {
        "id": "1eaf4e55"
      },
      "source": [
        "---"
      ]
    },
    {
      "cell_type": "markdown",
      "id": "5cf94c02",
      "metadata": {
        "id": "5cf94c02"
      },
      "source": [
        "# **1. 單一目標規劃: Goal1 讓員工上班日盡量平均**"
      ]
    },
    {
      "cell_type": "markdown",
      "id": "42107d93",
      "metadata": {
        "id": "42107d93"
      },
      "source": [
        "上班最多天的員工天數 - 上班最少天的員工天數 <= 1"
      ]
    },
    {
      "cell_type": "markdown",
      "id": "eac906fb",
      "metadata": {
        "id": "eac906fb"
      },
      "source": [
        "## **建立模型**"
      ]
    },
    {
      "cell_type": "code",
      "source": [
        "try:\n",
        "    from gurobipy import *\n",
        "except:\n",
        "    !pip install gurobipy"
      ],
      "metadata": {
        "id": "-nLdkzKbZ3c_"
      },
      "id": "-nLdkzKbZ3c_",
      "execution_count": null,
      "outputs": []
    },
    {
      "cell_type": "code",
      "execution_count": null,
      "id": "7f27aa3f",
      "metadata": {
        "ExecuteTime": {
          "end_time": "2023-06-07T15:03:52.482415Z",
          "start_time": "2023-06-07T15:03:52.466906Z"
        },
        "colab": {
          "base_uri": "https://localhost:8080/"
        },
        "id": "7f27aa3f",
        "outputId": "b02b63fb-bd32-427a-8537-c726fbfa9ad1"
      },
      "outputs": [
        {
          "output_type": "stream",
          "name": "stdout",
          "text": [
            "Restricted license - for non-production use only - expires 2024-10-28\n"
          ]
        }
      ],
      "source": [
        "# 建模\n",
        "m1 = Model('員工排班')"
      ]
    },
    {
      "cell_type": "markdown",
      "id": "1ab48649",
      "metadata": {
        "id": "1ab48649"
      },
      "source": [
        "### **設計變數**"
      ]
    },
    {
      "cell_type": "code",
      "execution_count": null,
      "id": "b811ec8c",
      "metadata": {
        "ExecuteTime": {
          "end_time": "2023-06-07T15:03:52.508651Z",
          "start_time": "2023-06-07T15:03:52.486009Z"
        },
        "id": "b811ec8c"
      },
      "outputs": [],
      "source": [
        "# Decision Variable\n",
        "x = m1.addVars(df.index, df.columns, vtype = GRB.BINARY, name = 'x')\n",
        "\n",
        "\n",
        "for employee in df.index:\n",
        "    for workday in df.columns:\n",
        "        if df.loc[employee, workday] != 1:\n",
        "            x[employee, workday].UB = 0  # 設置不可上班的變數上限為 0"
      ]
    },
    {
      "cell_type": "markdown",
      "id": "e19b28d9",
      "metadata": {
        "id": "e19b28d9"
      },
      "source": [
        "### **輔助變數**"
      ]
    },
    {
      "cell_type": "code",
      "execution_count": null,
      "id": "f7895405",
      "metadata": {
        "ExecuteTime": {
          "end_time": "2023-06-07T15:03:52.524350Z",
          "start_time": "2023-06-07T15:03:52.517365Z"
        },
        "id": "f7895405"
      },
      "outputs": [],
      "source": [
        "# Auxiliary Variable\n",
        "totalWorkdays = m1.addVars(df.sum(axis=1).index, name=\"TotalWorkdays\")\n",
        "minWorkday = m1.addVar(name='minWorkday')\n",
        "maxWorkday = m1.addVar(name='maxWorkday')\n",
        "n1 = m1.addVar(lb = 0, name='n1')\n",
        "p1 = m1.addVar(lb = 0, name='p1')"
      ]
    },
    {
      "cell_type": "code",
      "execution_count": null,
      "id": "8dd7d79e",
      "metadata": {
        "ExecuteTime": {
          "end_time": "2023-06-07T15:03:52.539825Z",
          "start_time": "2023-06-07T15:03:52.527341Z"
        },
        "id": "8dd7d79e"
      },
      "outputs": [],
      "source": [
        "# 限制式: 每個工作日都需要有一定數量的員工上班\n",
        "workday_requirement = m1.addConstrs((x.sum('*', w) >= workdayRequirements[w] for w in df.columns),\n",
        "                                   name = 'workdayRequirement')\n",
        "\n",
        "# 限制式: 每個員工可出席的工作日總數\n",
        "num_workdays = m1.addConstrs((x.sum(e, '*') == totalWorkdays[e] for e in df.index), name='totalWorkdays')\n",
        "\n",
        "min_workday = m1.addGenConstrMin(minWorkday, totalWorkdays, name = 'minWorkdays')\n",
        "max_workday = m1.addGenConstrMax(maxWorkday, totalWorkdays, name = 'maxWorkdays')\n",
        "\n",
        "goal1 = m1.addConstr(((maxWorkday - minWorkday) + n1 - p1 == 1), name='goal1')\n"
      ]
    },
    {
      "cell_type": "code",
      "execution_count": null,
      "id": "7a88edfc",
      "metadata": {
        "ExecuteTime": {
          "end_time": "2023-06-07T15:03:52.594357Z",
          "start_time": "2023-06-07T15:03:52.543815Z"
        },
        "colab": {
          "base_uri": "https://localhost:8080/"
        },
        "id": "7a88edfc",
        "outputId": "5cfa0a9f-ab62-4112-80ac-fdc24c33d950"
      },
      "outputs": [
        {
          "output_type": "stream",
          "name": "stdout",
          "text": [
            "Gurobi Optimizer version 10.0.1 build v10.0.1rc0 (linux64)\n",
            "\n",
            "CPU model: Intel(R) Xeon(R) CPU @ 2.20GHz, instruction set [SSE2|AVX|AVX2]\n",
            "Thread count: 1 physical cores, 2 logical processors, using up to 2 threads\n",
            "\n",
            "Optimize a model with 26 rows, 169 columns and 319 nonzeros\n",
            "Model fingerprint: 0xb41fb70b\n",
            "Model has 2 general constraints\n",
            "Variable types: 19 continuous, 150 integer (150 binary)\n",
            "Coefficient statistics:\n",
            "  Matrix range     [1e+00, 1e+00]\n",
            "  Objective range  [1e+00, 1e+01]\n",
            "  Bounds range     [1e+00, 1e+00]\n",
            "  RHS range        [1e+00, 3e+00]\n",
            "Presolve added 56 rows and 0 columns\n",
            "Presolve removed 0 rows and 37 columns\n",
            "Presolve time: 0.00s\n",
            "Presolved: 82 rows, 132 columns, 498 nonzeros\n",
            "Variable types: 33 continuous, 99 integer (90 binary)\n",
            "Found heuristic solution: objective 20.0000000\n",
            "Found heuristic solution: objective 1.0000000\n",
            "Found heuristic solution: objective 0.0000000\n",
            "\n",
            "Root relaxation: cutoff, 0 iterations, 0.00 seconds (0.00 work units)\n",
            "\n",
            "Explored 1 nodes (0 simplex iterations) in 0.03 seconds (0.00 work units)\n",
            "Thread count was 2 (of 2 available processors)\n",
            "\n",
            "Solution count 3: 3.10862e-15 1 20 \n",
            "\n",
            "Optimal solution found (tolerance 1.00e-04)\n",
            "Best objective 3.108624468950e-15, best bound 3.108624468950e-15, gap 0.0000%\n"
          ]
        }
      ],
      "source": [
        "# 加入目標式\n",
        "m1.setObjective(n1 + 10*p1, GRB.MINIMIZE)\n",
        "\n",
        "m1.optimize()"
      ]
    },
    {
      "cell_type": "markdown",
      "id": "eac5fbe9",
      "metadata": {
        "id": "eac5fbe9"
      },
      "source": [
        "## **執行結果**"
      ]
    },
    {
      "cell_type": "code",
      "execution_count": null,
      "id": "3c802d4f",
      "metadata": {
        "ExecuteTime": {
          "end_time": "2023-06-07T15:03:52.633934Z",
          "start_time": "2023-06-07T15:03:52.598345Z"
        },
        "colab": {
          "base_uri": "https://localhost:8080/"
        },
        "id": "3c802d4f",
        "outputId": "bdc18dff-ec8b-438c-b66f-5db5988501f3"
      },
      "outputs": [
        {
          "output_type": "stream",
          "name": "stdout",
          "text": [
            "WorkDay   1  2  3  4  5  6  7  8  9  10\n",
            "Employee                               \n",
            "0         0  0  1  0  0  0  0  0  0   1\n",
            "1         0  1  1  0  0  0  0  0  0   0\n",
            "2         1  0  0  0  0  1  1  0  0   0\n",
            "3         0  1  0  0  1  0  0  0  1   0\n",
            "4         1  1  0  1  0  0  0  0  0   0\n",
            "5         0  0  0  1  0  0  1  0  0   0\n",
            "6         0  0  1  1  0  0  0  0  0   0\n",
            "7         0  0  0  0  0  0  0  1  1   0\n",
            "8         0  0  0  0  1  1  0  0  0   0\n",
            "9         0  0  0  0  0  0  0  0  1   1\n",
            "10        0  0  0  0  0  1  0  1  0   0\n",
            "11        0  0  0  0  0  0  1  0  0   1\n",
            "12        0  0  0  0  1  0  0  0  0   1\n",
            "13        0  0  0  0  0  0  0  1  1   0\n",
            "14        0  0  0  0  0  1  1  0  0   0\n",
            "Employee\n",
            "0     2\n",
            "1     2\n",
            "2     3\n",
            "3     3\n",
            "4     3\n",
            "5     2\n",
            "6     2\n",
            "7     2\n",
            "8     2\n",
            "9     2\n",
            "10    2\n",
            "11    2\n",
            "12    2\n",
            "13    2\n",
            "14    2\n",
            "dtype: int64\n",
            "WorkDay\n",
            "1     2\n",
            "2     3\n",
            "3     3\n",
            "4     3\n",
            "5     3\n",
            "6     4\n",
            "7     4\n",
            "8     3\n",
            "9     4\n",
            "10    4\n",
            "dtype: int64\n"
          ]
        }
      ],
      "source": [
        "# 創建一個空的 DataFrame 來存儲結果\n",
        "result_df = pd.DataFrame(0, index=df.index, columns=df.columns)\n",
        "\n",
        "# 遍歷模型變數，並將解中為 1 的變數對應的位置設置為 1\n",
        "for employee, workday in x.keys():\n",
        "    if x[employee, workday].X == 1:\n",
        "        result_df.loc[employee, workday] = 1\n",
        "\n",
        "# 打印結果\n",
        "print(result_df)\n",
        "print(result_df.sum(axis=1))\n",
        "print(result_df.sum())"
      ]
    },
    {
      "cell_type": "code",
      "execution_count": null,
      "id": "eba3ea34",
      "metadata": {
        "ExecuteTime": {
          "end_time": "2023-06-07T15:03:52.658583Z",
          "start_time": "2023-06-07T15:03:52.636924Z"
        },
        "colab": {
          "base_uri": "https://localhost:8080/"
        },
        "id": "eba3ea34",
        "outputId": "57fd49d8-1055-44e4-b912-d91fee5246e4"
      },
      "outputs": [
        {
          "output_type": "stream",
          "name": "stdout",
          "text": [
            "工作天數全距: 1 天\n",
            "人事成本52800 元\n"
          ]
        }
      ],
      "source": [
        "print(f'工作天數全距: {result_df.sum(axis=1).max() - result_df.sum(axis=1).min()} 天')\n",
        "print(f'人事成本{daily_wage * result_df.sum().sum()} 元')"
      ]
    },
    {
      "cell_type": "markdown",
      "id": "18d59b16",
      "metadata": {
        "id": "18d59b16"
      },
      "source": [
        "---"
      ]
    },
    {
      "cell_type": "markdown",
      "id": "53418366",
      "metadata": {
        "id": "53418366"
      },
      "source": [
        "# **2. 單目標規劃: Goal2 成本極小化**"
      ]
    },
    {
      "cell_type": "markdown",
      "id": "e8301f56",
      "metadata": {
        "id": "e8301f56"
      },
      "source": [
        "最小化人事成本"
      ]
    },
    {
      "cell_type": "code",
      "execution_count": null,
      "id": "8b544ebc",
      "metadata": {
        "ExecuteTime": {
          "end_time": "2023-06-07T15:03:52.690039Z",
          "start_time": "2023-06-07T15:03:52.662572Z"
        },
        "id": "8b544ebc"
      },
      "outputs": [],
      "source": [
        "# 建模\n",
        "m2 = Model('員工排班')\n",
        "\n",
        "# Decision Variable\n",
        "x = m2.addVars(df.index, df.columns, vtype = GRB.BINARY, name = 'x')\n",
        "\n",
        "\n",
        "for employee in df.index:\n",
        "    for workday in df.columns:\n",
        "        if df.loc[employee, workday] != 1:\n",
        "            x[employee, workday].UB = 0  # 設置不可上班的變數上限為 0"
      ]
    },
    {
      "cell_type": "code",
      "execution_count": null,
      "id": "2cee5a89",
      "metadata": {
        "ExecuteTime": {
          "end_time": "2023-06-07T15:03:52.714974Z",
          "start_time": "2023-06-07T15:03:52.693032Z"
        },
        "id": "2cee5a89"
      },
      "outputs": [],
      "source": [
        "# 輔助變數\n",
        "totalWorkdays = m2.addVars(df.sum(axis=1).index, name=\"TotalWorkdays\")\n",
        "n2 = m2.addVar(lb = 0, name = 'n2')\n",
        "p2 = m2.addVar(lb = 0, name = 'p2')\n",
        "\n",
        "# 限制式: 每個工作日都需要有一定數量的員工上班\n",
        "workday_requirement = m2.addConstrs((x.sum('*', w) >= workdayRequirements[w] for w in df.columns),\n",
        "                                   name = 'workdayRequirement')\n",
        "\n",
        "# 限制式: 每個員工可出席的工作日總數\n",
        "num_workdays = m2.addConstrs((x.sum(e, '*') == totalWorkdays[e] for e in df.index), name='totalWorkdays')\n",
        "\n",
        "# 限制式: 目標函數\n",
        "goal2 = m2.addConstr((daily_wage*totalWorkdays.sum() + n2 - p2 == 40000), name='goal2')"
      ]
    },
    {
      "cell_type": "code",
      "execution_count": null,
      "id": "c229e5a8",
      "metadata": {
        "ExecuteTime": {
          "end_time": "2023-06-07T15:03:52.764001Z",
          "start_time": "2023-06-07T15:03:52.719235Z"
        },
        "colab": {
          "base_uri": "https://localhost:8080/"
        },
        "id": "c229e5a8",
        "outputId": "56a5d055-05d5-41d6-e672-3a10dd4a993c"
      },
      "outputs": [
        {
          "output_type": "stream",
          "name": "stdout",
          "text": [
            "Gurobi Optimizer version 10.0.1 build v10.0.1rc0 (linux64)\n",
            "\n",
            "CPU model: Intel(R) Xeon(R) CPU @ 2.20GHz, instruction set [SSE2|AVX|AVX2]\n",
            "Thread count: 1 physical cores, 2 logical processors, using up to 2 threads\n",
            "\n",
            "Optimize a model with 26 rows, 167 columns and 332 nonzeros\n",
            "Model fingerprint: 0x3fd53325\n",
            "Variable types: 17 continuous, 150 integer (150 binary)\n",
            "Coefficient statistics:\n",
            "  Matrix range     [1e+00, 2e+03]\n",
            "  Objective range  [1e+00, 1e+01]\n",
            "  Bounds range     [1e+00, 1e+00]\n",
            "  RHS range        [1e+00, 4e+04]\n",
            "Found heuristic solution: objective 8000.0000000\n",
            "Presolve removed 25 rows and 165 columns\n",
            "Presolve time: 0.00s\n",
            "Presolved: 1 rows, 2 columns, 2 nonzeros\n",
            "Found heuristic solution: objective 0.0000000\n",
            "Variable types: 0 continuous, 2 integer (0 binary)\n",
            "\n",
            "Explored 0 nodes (0 simplex iterations) in 0.03 seconds (0.00 work units)\n",
            "Thread count was 2 (of 2 available processors)\n",
            "\n",
            "Solution count 2: 0 8000 \n",
            "\n",
            "Optimal solution found (tolerance 1.00e-04)\n",
            "Best objective 0.000000000000e+00, best bound 0.000000000000e+00, gap 0.0000%\n"
          ]
        }
      ],
      "source": [
        "# 目標式\n",
        "m2.setObjective(n2 + 10*p2, GRB.MINIMIZE)\n",
        "\n",
        "m2.optimize()"
      ]
    },
    {
      "cell_type": "code",
      "execution_count": null,
      "id": "c11c563c",
      "metadata": {
        "ExecuteTime": {
          "end_time": "2023-06-07T15:03:52.795175Z",
          "start_time": "2023-06-07T15:03:52.768248Z"
        },
        "colab": {
          "base_uri": "https://localhost:8080/"
        },
        "id": "c11c563c",
        "outputId": "30685870-fba5-47a1-f8b1-a7ced5b44835"
      },
      "outputs": [
        {
          "output_type": "stream",
          "name": "stdout",
          "text": [
            "WorkDay   1  2  3  4  5  6  7  8  9  10\n",
            "Employee                               \n",
            "0         0  0  0  0  0  0  0  0  0   0\n",
            "1         0  1  1  0  0  0  0  0  0   0\n",
            "2         1  0  0  0  0  0  0  0  0   0\n",
            "3         0  0  0  0  1  0  0  0  1   0\n",
            "4         1  0  0  0  1  0  0  0  1   0\n",
            "5         0  1  1  1  0  0  1  0  0   0\n",
            "6         0  0  0  1  0  0  0  0  0   0\n",
            "7         0  0  0  0  0  0  0  0  1   0\n",
            "8         1  0  0  0  1  0  0  0  0   0\n",
            "9         0  0  0  0  0  0  0  0  1   1\n",
            "10        0  0  0  0  0  0  0  1  0   0\n",
            "11        0  0  0  0  0  0  0  0  0   0\n",
            "12        0  0  0  0  0  1  0  0  0   0\n",
            "13        0  1  0  0  0  0  0  1  1   0\n",
            "14        1  0  0  0  0  0  1  0  0   0\n",
            "Employee\n",
            "0     0\n",
            "1     2\n",
            "2     1\n",
            "3     2\n",
            "4     3\n",
            "5     4\n",
            "6     1\n",
            "7     1\n",
            "8     2\n",
            "9     2\n",
            "10    1\n",
            "11    0\n",
            "12    1\n",
            "13    3\n",
            "14    2\n",
            "dtype: int64\n",
            "WorkDay\n",
            "1     4\n",
            "2     3\n",
            "3     2\n",
            "4     2\n",
            "5     3\n",
            "6     1\n",
            "7     2\n",
            "8     2\n",
            "9     5\n",
            "10    1\n",
            "dtype: int64\n"
          ]
        }
      ],
      "source": [
        "# 創建一個空的 DataFrame 來存儲結果\n",
        "result_df = pd.DataFrame(0, index=df.index, columns=df.columns)\n",
        "\n",
        "# 遍歷模型變數，並將解中為 1 的變數對應的位置設置為 1\n",
        "for employee, workday in x.keys():\n",
        "    if x[employee, workday].X == 1:\n",
        "        result_df.loc[employee, workday] = 1\n",
        "\n",
        "# 打印結果\n",
        "print(result_df)\n",
        "print(result_df.sum(axis=1))\n",
        "print(result_df.sum())"
      ]
    },
    {
      "cell_type": "code",
      "execution_count": null,
      "id": "c144def8",
      "metadata": {
        "ExecuteTime": {
          "end_time": "2023-06-07T15:03:52.822177Z",
          "start_time": "2023-06-07T15:03:52.799165Z"
        },
        "colab": {
          "base_uri": "https://localhost:8080/"
        },
        "id": "c144def8",
        "outputId": "16e489dc-4417-4755-977b-c64658e67afc"
      },
      "outputs": [
        {
          "output_type": "stream",
          "name": "stdout",
          "text": [
            "工作天數全距: 4 天\n",
            "人事成本40000 元\n"
          ]
        }
      ],
      "source": [
        "print(f'工作天數全距: {result_df.sum(axis=1).max() - result_df.sum(axis=1).min()} 天')\n",
        "print(f'人事成本{daily_wage * result_df.sum().sum()} 元')"
      ]
    },
    {
      "cell_type": "markdown",
      "id": "7971b08e",
      "metadata": {
        "id": "7971b08e"
      },
      "source": [
        "---"
      ]
    },
    {
      "cell_type": "markdown",
      "id": "403435dc",
      "metadata": {
        "id": "403435dc"
      },
      "source": [
        "# **3. 多目標規劃: G1 + G2 同時考慮**"
      ]
    },
    {
      "cell_type": "code",
      "execution_count": null,
      "id": "38f0dcd0",
      "metadata": {
        "ExecuteTime": {
          "end_time": "2023-06-07T15:03:52.853120Z",
          "start_time": "2023-06-07T15:03:52.826172Z"
        },
        "id": "38f0dcd0"
      },
      "outputs": [],
      "source": [
        "# 建模\n",
        "m3 = Model('員工排班')\n",
        "\n",
        "# Decision Variable\n",
        "x = m3.addVars(df.index, df.columns, vtype = GRB.BINARY, name = 'x')\n",
        "\n",
        "for employee in df.index:\n",
        "    for workday in df.columns:\n",
        "        if df.loc[employee, workday] != 1:\n",
        "            x[employee, workday].UB = 0  # 設置不可上班的變數上限為 0\n",
        "            "
      ]
    },
    {
      "cell_type": "code",
      "execution_count": null,
      "id": "582db886",
      "metadata": {
        "ExecuteTime": {
          "end_time": "2023-06-07T15:03:52.873261Z",
          "start_time": "2023-06-07T15:03:52.856111Z"
        },
        "id": "582db886"
      },
      "outputs": [],
      "source": [
        "# Auxiliary Variable\n",
        "totalWorkdays = m3.addVars(df.sum(axis=1).index, name=\"TotalWorkdays\")\n",
        "minWorkday = m3.addVar(name='minWorkday')\n",
        "maxWorkday = m3.addVar(name='maxWorkday')\n",
        "n1 = m3.addVar(lb = 0, name='n1')\n",
        "p1 = m3.addVar(lb = 0, name='p1')\n",
        "n2 = m3.addVar(lb = 0, name = 'n2')\n",
        "p2 = m3.addVar(lb = 0, name = 'p2')"
      ]
    },
    {
      "cell_type": "code",
      "execution_count": null,
      "id": "7e1cfca2",
      "metadata": {
        "ExecuteTime": {
          "end_time": "2023-06-07T15:03:52.898091Z",
          "start_time": "2023-06-07T15:03:52.877253Z"
        },
        "id": "7e1cfca2"
      },
      "outputs": [],
      "source": [
        "# 限制式: 每個工作日都需要有一定數量的員工上班\n",
        "workday_requirement = m3.addConstrs((x.sum('*', w) >= workdayRequirements[w] for w in df.columns),\n",
        "                                   name = 'workdayRequirement')\n",
        "\n",
        "# 限制式: 每個員工可出席的工作日總數\n",
        "num_workdays = m3.addConstrs((x.sum(e, '*') == totalWorkdays[e] for e in df.index), name='totalWorkdays')\n",
        "\n",
        "min_workday = m3.addGenConstrMin(minWorkday, totalWorkdays, name = 'minWorkdays')\n",
        "max_workday = m3.addGenConstrMax(maxWorkday, totalWorkdays, name = 'maxWorkdays')\n",
        "\n",
        "# 限制式: 目標函數\n",
        "goal1 = m3.addConstr(((maxWorkday - minWorkday) + n1 - p1 == 1), name='goal1')\n",
        "\n",
        "# 限制式: 目標函數\n",
        "goal2 = m3.addConstr((daily_wage*totalWorkdays.sum() + n2 - p2 == 40000), name='goal2')"
      ]
    },
    {
      "cell_type": "code",
      "execution_count": null,
      "id": "a029a604",
      "metadata": {
        "ExecuteTime": {
          "end_time": "2023-06-07T15:03:52.955005Z",
          "start_time": "2023-06-07T15:03:52.901545Z"
        },
        "colab": {
          "base_uri": "https://localhost:8080/"
        },
        "id": "a029a604",
        "outputId": "674faa86-fedb-464c-cda5-7127585a8a43"
      },
      "outputs": [
        {
          "output_type": "stream",
          "name": "stdout",
          "text": [
            "Gurobi Optimizer version 10.0.1 build v10.0.1rc0 (linux64)\n",
            "\n",
            "CPU model: Intel(R) Xeon(R) CPU @ 2.20GHz, instruction set [SSE2|AVX|AVX2]\n",
            "Thread count: 1 physical cores, 2 logical processors, using up to 2 threads\n",
            "\n",
            "Optimize a model with 27 rows, 171 columns and 336 nonzeros\n",
            "Model fingerprint: 0xd66854a1\n",
            "Model has 2 general constraints\n",
            "Variable types: 21 continuous, 150 integer (150 binary)\n",
            "Coefficient statistics:\n",
            "  Matrix range     [1e+00, 2e+03]\n",
            "  Objective range  [1e+01, 1e+01]\n",
            "  Bounds range     [1e+00, 1e+00]\n",
            "  RHS range        [1e+00, 4e+04]\n",
            "Presolve added 28 rows and 0 columns\n",
            "Presolve removed 0 rows and 95 columns\n",
            "Presolve time: 0.00s\n",
            "Presolved: 55 rows, 76 columns, 213 nonzeros\n",
            "Variable types: 0 continuous, 76 integer (60 binary)\n",
            "Found heuristic solution: objective 40.0000000\n",
            "Found heuristic solution: objective 30.0000000\n",
            "\n",
            "Root relaxation: objective 0.000000e+00, 42 iterations, 0.00 seconds (0.00 work units)\n",
            "\n",
            "    Nodes    |    Current Node    |     Objective Bounds      |     Work\n",
            " Expl Unexpl |  Obj  Depth IntInf | Incumbent    BestBd   Gap | It/Node Time\n",
            "\n",
            "H    0     0                       0.0000000  -20.00000      -     -    0s\n",
            "     0     0    0.00000    0   29    0.00000    0.00000  0.00%     -    0s\n",
            "\n",
            "Explored 1 nodes (42 simplex iterations) in 0.03 seconds (0.00 work units)\n",
            "Thread count was 2 (of 2 available processors)\n",
            "\n",
            "Solution count 3: 0 30 40 \n",
            "\n",
            "Optimal solution found (tolerance 1.00e-04)\n",
            "Best objective 0.000000000000e+00, best bound 0.000000000000e+00, gap 0.0000%\n"
          ]
        }
      ],
      "source": [
        "# 目標式\n",
        "m3.setObjective(0*n1 + 10*p1 + 0*n2 + 10*p2, GRB.MINIMIZE)\n",
        "\n",
        "m3.optimize()"
      ]
    },
    {
      "cell_type": "code",
      "execution_count": null,
      "id": "6eadab98",
      "metadata": {
        "ExecuteTime": {
          "end_time": "2023-06-07T15:03:52.983513Z",
          "start_time": "2023-06-07T15:03:52.955005Z"
        },
        "colab": {
          "base_uri": "https://localhost:8080/"
        },
        "id": "6eadab98",
        "outputId": "fc6632f8-198a-4f83-b21b-4336ee3fb244"
      },
      "outputs": [
        {
          "output_type": "stream",
          "name": "stdout",
          "text": [
            "WorkDay   1  2  3  4  5  6  7  8  9  10\n",
            "Employee                               \n",
            "0         0  0  1  0  0  0  0  0  0   0\n",
            "1         0  1  0  0  0  0  0  0  0   0\n",
            "2         0  0  0  0  0  1  1  0  0   0\n",
            "3         0  0  0  0  1  0  0  0  1   0\n",
            "4         0  0  0  1  1  0  0  0  0   0\n",
            "5         0  0  1  1  0  0  0  0  0   0\n",
            "6         0  1  0  0  0  0  0  0  0   0\n",
            "7         0  1  0  0  0  0  0  1  0   0\n",
            "8         1  0  0  0  0  0  0  0  0   0\n",
            "9         1  0  0  0  0  0  0  0  0   0\n",
            "10        0  0  0  0  0  0  0  1  0   0\n",
            "11        0  0  0  0  0  0  0  0  0   1\n",
            "12        0  0  0  0  1  0  0  0  0   0\n",
            "13        0  1  0  0  0  0  0  0  1   0\n",
            "14        1  0  0  0  0  0  1  0  0   0\n",
            "Employee\n",
            "0     1\n",
            "1     1\n",
            "2     2\n",
            "3     2\n",
            "4     2\n",
            "5     2\n",
            "6     1\n",
            "7     2\n",
            "8     1\n",
            "9     1\n",
            "10    1\n",
            "11    1\n",
            "12    1\n",
            "13    2\n",
            "14    2\n",
            "dtype: int64\n",
            "WorkDay\n",
            "1     3\n",
            "2     4\n",
            "3     2\n",
            "4     2\n",
            "5     3\n",
            "6     1\n",
            "7     2\n",
            "8     2\n",
            "9     2\n",
            "10    1\n",
            "dtype: int64\n"
          ]
        }
      ],
      "source": [
        "# 創建一個空的 DataFrame 來存儲結果\n",
        "result_df = pd.DataFrame(0, index=df.index, columns=df.columns)\n",
        "\n",
        "# 遍歷模型變數，並將解中為 1 的變數對應的位置設置為 1\n",
        "for employee, workday in x.keys():\n",
        "    if x[employee, workday].X == 1:\n",
        "        result_df.loc[employee, workday] = 1\n",
        "\n",
        "# 打印結果\n",
        "print(result_df)\n",
        "print(result_df.sum(axis=1))\n",
        "print(result_df.sum())"
      ]
    },
    {
      "cell_type": "code",
      "execution_count": null,
      "id": "8b9e0610",
      "metadata": {
        "ExecuteTime": {
          "end_time": "2023-06-07T15:03:52.998522Z",
          "start_time": "2023-06-07T15:03:52.983513Z"
        },
        "colab": {
          "base_uri": "https://localhost:8080/"
        },
        "id": "8b9e0610",
        "outputId": "6de42d47-cc63-4dd6-d5b7-51f63e42b72b"
      },
      "outputs": [
        {
          "output_type": "stream",
          "name": "stdout",
          "text": [
            "工作天數全距: 1 天\n",
            "人事成本: 35200 元\n"
          ]
        }
      ],
      "source": [
        "print(f'工作天數全距: {result_df.sum(axis=1).max() - result_df.sum(axis=1).min()} 天')\n",
        "print(f'人事成本: {daily_wage * result_df.sum().sum()} 元')"
      ]
    }
  ],
  "metadata": {
    "kernelspec": {
      "display_name": "Python 3 (ipykernel)",
      "language": "python",
      "name": "python3"
    },
    "language_info": {
      "codemirror_mode": {
        "name": "ipython",
        "version": 3
      },
      "file_extension": ".py",
      "mimetype": "text/x-python",
      "name": "python",
      "nbconvert_exporter": "python",
      "pygments_lexer": "ipython3",
      "version": "3.9.16"
    },
    "toc": {
      "base_numbering": 1,
      "nav_menu": {},
      "number_sections": true,
      "sideBar": false,
      "skip_h1_title": false,
      "title_cell": "Table of Contents",
      "title_sidebar": "Contents",
      "toc_cell": false,
      "toc_position": {
        "height": "677.892px",
        "left": "9.99178px",
        "top": "150px",
        "width": "337.007px"
      },
      "toc_section_display": false,
      "toc_window_display": false
    },
    "varInspector": {
      "cols": {
        "lenName": 16,
        "lenType": 16,
        "lenVar": 40
      },
      "kernels_config": {
        "python": {
          "delete_cmd_postfix": "",
          "delete_cmd_prefix": "del ",
          "library": "var_list.py",
          "varRefreshCmd": "print(var_dic_list())"
        },
        "r": {
          "delete_cmd_postfix": ") ",
          "delete_cmd_prefix": "rm(",
          "library": "var_list.r",
          "varRefreshCmd": "cat(var_dic_list()) "
        }
      },
      "types_to_exclude": [
        "module",
        "function",
        "builtin_function_or_method",
        "instance",
        "_Feature"
      ],
      "window_display": false
    },
    "colab": {
      "provenance": [],
      "toc_visible": true,
      "include_colab_link": true
    }
  },
  "nbformat": 4,
  "nbformat_minor": 5
}