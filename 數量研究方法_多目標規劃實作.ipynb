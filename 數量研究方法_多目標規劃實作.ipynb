{
  "cells": [
    {
      "cell_type": "markdown",
      "metadata": {
        "id": "view-in-github",
        "colab_type": "text"
      },
      "source": [
        "<a href=\"https://colab.research.google.com/github/EricMiao01/Scheduling_Problem/blob/main/%E6%95%B8%E9%87%8F%E7%A0%94%E7%A9%B6%E6%96%B9%E6%B3%95_%E5%A4%9A%E7%9B%AE%E6%A8%99%E8%A6%8F%E5%8A%83%E5%AF%A6%E4%BD%9C.ipynb\" target=\"_parent\"><img src=\"https://colab.research.google.com/assets/colab-badge.svg\" alt=\"Open In Colab\"/></a>"
      ]
    },
    {
      "cell_type": "markdown",
      "id": "78b632eb",
      "metadata": {
        "id": "78b632eb"
      },
      "source": [
        "## **取得員工可上班日調查表**"
      ]
    },
    {
      "cell_type": "code",
      "execution_count": 293,
      "id": "737e7a93",
      "metadata": {
        "ExecuteTime": {
          "end_time": "2023-06-07T15:03:52.337909Z",
          "start_time": "2023-06-07T15:03:51.515071Z"
        },
        "id": "737e7a93"
      },
      "outputs": [],
      "source": [
        "import pandas as pd\n",
        "import numpy as np"
      ]
    },
    {
      "cell_type": "code",
      "source": [
        "def highlight_availability(val):\n",
        "    if val == 1:\n",
        "        return 'background-color: gray'  # 可以上班的底色為灰色\n",
        "    else:\n",
        "        return ''"
      ],
      "metadata": {
        "id": "Q811WX6KVm2y"
      },
      "id": "Q811WX6KVm2y",
      "execution_count": 294,
      "outputs": []
    },
    {
      "cell_type": "code",
      "execution_count": 295,
      "id": "180b6a39",
      "metadata": {
        "ExecuteTime": {
          "end_time": "2023-06-07T15:03:52.350602Z",
          "start_time": "2023-06-07T15:03:52.340491Z"
        },
        "id": "180b6a39"
      },
      "outputs": [],
      "source": [
        "seed_value = 5201314  # 設定種子值\n",
        "np.random.seed(seed_value)  # 固定隨機數生成器的種子\n",
        "data = np.random.randint(0, 2, size = (15, 10)) # 生成15位員工在10個工作天中的可出席日"
      ]
    },
    {
      "cell_type": "code",
      "execution_count": 296,
      "id": "2dc6c02f",
      "metadata": {
        "ExecuteTime": {
          "end_time": "2023-06-07T15:03:52.401969Z",
          "start_time": "2023-06-07T15:03:52.350602Z"
        },
        "colab": {
          "base_uri": "https://localhost:8080/",
          "height": 569
        },
        "id": "2dc6c02f",
        "outputId": "86d95219-a93b-4e63-fb31-49e5c0734787"
      },
      "outputs": [
        {
          "output_type": "stream",
          "name": "stdout",
          "text": [
            "員工可上班時間調查表:\n"
          ]
        },
        {
          "output_type": "execute_result",
          "data": {
            "text/plain": [
              "<pandas.io.formats.style.Styler at 0x7f8af1c1f190>"
            ],
            "text/html": [
              "<style type=\"text/css\">\n",
              "#T_39239_row0_col2, #T_39239_row0_col9, #T_39239_row1_col1, #T_39239_row1_col2, #T_39239_row2_col0, #T_39239_row2_col5, #T_39239_row2_col6, #T_39239_row2_col9, #T_39239_row3_col1, #T_39239_row3_col4, #T_39239_row3_col5, #T_39239_row3_col8, #T_39239_row3_col9, #T_39239_row4_col0, #T_39239_row4_col1, #T_39239_row4_col3, #T_39239_row4_col4, #T_39239_row4_col8, #T_39239_row4_col9, #T_39239_row5_col1, #T_39239_row5_col2, #T_39239_row5_col3, #T_39239_row5_col6, #T_39239_row6_col1, #T_39239_row6_col2, #T_39239_row6_col3, #T_39239_row7_col1, #T_39239_row7_col2, #T_39239_row7_col3, #T_39239_row7_col6, #T_39239_row7_col7, #T_39239_row7_col8, #T_39239_row8_col0, #T_39239_row8_col2, #T_39239_row8_col3, #T_39239_row8_col4, #T_39239_row8_col5, #T_39239_row9_col0, #T_39239_row9_col2, #T_39239_row9_col5, #T_39239_row9_col8, #T_39239_row9_col9, #T_39239_row10_col3, #T_39239_row10_col5, #T_39239_row10_col7, #T_39239_row11_col5, #T_39239_row11_col6, #T_39239_row11_col9, #T_39239_row12_col2, #T_39239_row12_col4, #T_39239_row12_col5, #T_39239_row12_col7, #T_39239_row12_col9, #T_39239_row13_col1, #T_39239_row13_col3, #T_39239_row13_col7, #T_39239_row13_col8, #T_39239_row14_col0, #T_39239_row14_col5, #T_39239_row14_col6 {\n",
              "  background-color: gray;\n",
              "}\n",
              "</style>\n",
              "<table id=\"T_39239\" class=\"dataframe\">\n",
              "  <thead>\n",
              "    <tr>\n",
              "      <th class=\"index_name level0\" >WorkDay</th>\n",
              "      <th id=\"T_39239_level0_col0\" class=\"col_heading level0 col0\" >1</th>\n",
              "      <th id=\"T_39239_level0_col1\" class=\"col_heading level0 col1\" >2</th>\n",
              "      <th id=\"T_39239_level0_col2\" class=\"col_heading level0 col2\" >3</th>\n",
              "      <th id=\"T_39239_level0_col3\" class=\"col_heading level0 col3\" >4</th>\n",
              "      <th id=\"T_39239_level0_col4\" class=\"col_heading level0 col4\" >5</th>\n",
              "      <th id=\"T_39239_level0_col5\" class=\"col_heading level0 col5\" >6</th>\n",
              "      <th id=\"T_39239_level0_col6\" class=\"col_heading level0 col6\" >7</th>\n",
              "      <th id=\"T_39239_level0_col7\" class=\"col_heading level0 col7\" >8</th>\n",
              "      <th id=\"T_39239_level0_col8\" class=\"col_heading level0 col8\" >9</th>\n",
              "      <th id=\"T_39239_level0_col9\" class=\"col_heading level0 col9\" >10</th>\n",
              "    </tr>\n",
              "    <tr>\n",
              "      <th class=\"index_name level0\" >Employee</th>\n",
              "      <th class=\"blank col0\" >&nbsp;</th>\n",
              "      <th class=\"blank col1\" >&nbsp;</th>\n",
              "      <th class=\"blank col2\" >&nbsp;</th>\n",
              "      <th class=\"blank col3\" >&nbsp;</th>\n",
              "      <th class=\"blank col4\" >&nbsp;</th>\n",
              "      <th class=\"blank col5\" >&nbsp;</th>\n",
              "      <th class=\"blank col6\" >&nbsp;</th>\n",
              "      <th class=\"blank col7\" >&nbsp;</th>\n",
              "      <th class=\"blank col8\" >&nbsp;</th>\n",
              "      <th class=\"blank col9\" >&nbsp;</th>\n",
              "    </tr>\n",
              "  </thead>\n",
              "  <tbody>\n",
              "    <tr>\n",
              "      <th id=\"T_39239_level0_row0\" class=\"row_heading level0 row0\" >0</th>\n",
              "      <td id=\"T_39239_row0_col0\" class=\"data row0 col0\" >0</td>\n",
              "      <td id=\"T_39239_row0_col1\" class=\"data row0 col1\" >0</td>\n",
              "      <td id=\"T_39239_row0_col2\" class=\"data row0 col2\" >1</td>\n",
              "      <td id=\"T_39239_row0_col3\" class=\"data row0 col3\" >0</td>\n",
              "      <td id=\"T_39239_row0_col4\" class=\"data row0 col4\" >0</td>\n",
              "      <td id=\"T_39239_row0_col5\" class=\"data row0 col5\" >0</td>\n",
              "      <td id=\"T_39239_row0_col6\" class=\"data row0 col6\" >0</td>\n",
              "      <td id=\"T_39239_row0_col7\" class=\"data row0 col7\" >0</td>\n",
              "      <td id=\"T_39239_row0_col8\" class=\"data row0 col8\" >0</td>\n",
              "      <td id=\"T_39239_row0_col9\" class=\"data row0 col9\" >1</td>\n",
              "    </tr>\n",
              "    <tr>\n",
              "      <th id=\"T_39239_level0_row1\" class=\"row_heading level0 row1\" >1</th>\n",
              "      <td id=\"T_39239_row1_col0\" class=\"data row1 col0\" >0</td>\n",
              "      <td id=\"T_39239_row1_col1\" class=\"data row1 col1\" >1</td>\n",
              "      <td id=\"T_39239_row1_col2\" class=\"data row1 col2\" >1</td>\n",
              "      <td id=\"T_39239_row1_col3\" class=\"data row1 col3\" >0</td>\n",
              "      <td id=\"T_39239_row1_col4\" class=\"data row1 col4\" >0</td>\n",
              "      <td id=\"T_39239_row1_col5\" class=\"data row1 col5\" >0</td>\n",
              "      <td id=\"T_39239_row1_col6\" class=\"data row1 col6\" >0</td>\n",
              "      <td id=\"T_39239_row1_col7\" class=\"data row1 col7\" >0</td>\n",
              "      <td id=\"T_39239_row1_col8\" class=\"data row1 col8\" >0</td>\n",
              "      <td id=\"T_39239_row1_col9\" class=\"data row1 col9\" >0</td>\n",
              "    </tr>\n",
              "    <tr>\n",
              "      <th id=\"T_39239_level0_row2\" class=\"row_heading level0 row2\" >2</th>\n",
              "      <td id=\"T_39239_row2_col0\" class=\"data row2 col0\" >1</td>\n",
              "      <td id=\"T_39239_row2_col1\" class=\"data row2 col1\" >0</td>\n",
              "      <td id=\"T_39239_row2_col2\" class=\"data row2 col2\" >0</td>\n",
              "      <td id=\"T_39239_row2_col3\" class=\"data row2 col3\" >0</td>\n",
              "      <td id=\"T_39239_row2_col4\" class=\"data row2 col4\" >0</td>\n",
              "      <td id=\"T_39239_row2_col5\" class=\"data row2 col5\" >1</td>\n",
              "      <td id=\"T_39239_row2_col6\" class=\"data row2 col6\" >1</td>\n",
              "      <td id=\"T_39239_row2_col7\" class=\"data row2 col7\" >0</td>\n",
              "      <td id=\"T_39239_row2_col8\" class=\"data row2 col8\" >0</td>\n",
              "      <td id=\"T_39239_row2_col9\" class=\"data row2 col9\" >1</td>\n",
              "    </tr>\n",
              "    <tr>\n",
              "      <th id=\"T_39239_level0_row3\" class=\"row_heading level0 row3\" >3</th>\n",
              "      <td id=\"T_39239_row3_col0\" class=\"data row3 col0\" >0</td>\n",
              "      <td id=\"T_39239_row3_col1\" class=\"data row3 col1\" >1</td>\n",
              "      <td id=\"T_39239_row3_col2\" class=\"data row3 col2\" >0</td>\n",
              "      <td id=\"T_39239_row3_col3\" class=\"data row3 col3\" >0</td>\n",
              "      <td id=\"T_39239_row3_col4\" class=\"data row3 col4\" >1</td>\n",
              "      <td id=\"T_39239_row3_col5\" class=\"data row3 col5\" >1</td>\n",
              "      <td id=\"T_39239_row3_col6\" class=\"data row3 col6\" >0</td>\n",
              "      <td id=\"T_39239_row3_col7\" class=\"data row3 col7\" >0</td>\n",
              "      <td id=\"T_39239_row3_col8\" class=\"data row3 col8\" >1</td>\n",
              "      <td id=\"T_39239_row3_col9\" class=\"data row3 col9\" >1</td>\n",
              "    </tr>\n",
              "    <tr>\n",
              "      <th id=\"T_39239_level0_row4\" class=\"row_heading level0 row4\" >4</th>\n",
              "      <td id=\"T_39239_row4_col0\" class=\"data row4 col0\" >1</td>\n",
              "      <td id=\"T_39239_row4_col1\" class=\"data row4 col1\" >1</td>\n",
              "      <td id=\"T_39239_row4_col2\" class=\"data row4 col2\" >0</td>\n",
              "      <td id=\"T_39239_row4_col3\" class=\"data row4 col3\" >1</td>\n",
              "      <td id=\"T_39239_row4_col4\" class=\"data row4 col4\" >1</td>\n",
              "      <td id=\"T_39239_row4_col5\" class=\"data row4 col5\" >0</td>\n",
              "      <td id=\"T_39239_row4_col6\" class=\"data row4 col6\" >0</td>\n",
              "      <td id=\"T_39239_row4_col7\" class=\"data row4 col7\" >0</td>\n",
              "      <td id=\"T_39239_row4_col8\" class=\"data row4 col8\" >1</td>\n",
              "      <td id=\"T_39239_row4_col9\" class=\"data row4 col9\" >1</td>\n",
              "    </tr>\n",
              "    <tr>\n",
              "      <th id=\"T_39239_level0_row5\" class=\"row_heading level0 row5\" >5</th>\n",
              "      <td id=\"T_39239_row5_col0\" class=\"data row5 col0\" >0</td>\n",
              "      <td id=\"T_39239_row5_col1\" class=\"data row5 col1\" >1</td>\n",
              "      <td id=\"T_39239_row5_col2\" class=\"data row5 col2\" >1</td>\n",
              "      <td id=\"T_39239_row5_col3\" class=\"data row5 col3\" >1</td>\n",
              "      <td id=\"T_39239_row5_col4\" class=\"data row5 col4\" >0</td>\n",
              "      <td id=\"T_39239_row5_col5\" class=\"data row5 col5\" >0</td>\n",
              "      <td id=\"T_39239_row5_col6\" class=\"data row5 col6\" >1</td>\n",
              "      <td id=\"T_39239_row5_col7\" class=\"data row5 col7\" >0</td>\n",
              "      <td id=\"T_39239_row5_col8\" class=\"data row5 col8\" >0</td>\n",
              "      <td id=\"T_39239_row5_col9\" class=\"data row5 col9\" >0</td>\n",
              "    </tr>\n",
              "    <tr>\n",
              "      <th id=\"T_39239_level0_row6\" class=\"row_heading level0 row6\" >6</th>\n",
              "      <td id=\"T_39239_row6_col0\" class=\"data row6 col0\" >0</td>\n",
              "      <td id=\"T_39239_row6_col1\" class=\"data row6 col1\" >1</td>\n",
              "      <td id=\"T_39239_row6_col2\" class=\"data row6 col2\" >1</td>\n",
              "      <td id=\"T_39239_row6_col3\" class=\"data row6 col3\" >1</td>\n",
              "      <td id=\"T_39239_row6_col4\" class=\"data row6 col4\" >0</td>\n",
              "      <td id=\"T_39239_row6_col5\" class=\"data row6 col5\" >0</td>\n",
              "      <td id=\"T_39239_row6_col6\" class=\"data row6 col6\" >0</td>\n",
              "      <td id=\"T_39239_row6_col7\" class=\"data row6 col7\" >0</td>\n",
              "      <td id=\"T_39239_row6_col8\" class=\"data row6 col8\" >0</td>\n",
              "      <td id=\"T_39239_row6_col9\" class=\"data row6 col9\" >0</td>\n",
              "    </tr>\n",
              "    <tr>\n",
              "      <th id=\"T_39239_level0_row7\" class=\"row_heading level0 row7\" >7</th>\n",
              "      <td id=\"T_39239_row7_col0\" class=\"data row7 col0\" >0</td>\n",
              "      <td id=\"T_39239_row7_col1\" class=\"data row7 col1\" >1</td>\n",
              "      <td id=\"T_39239_row7_col2\" class=\"data row7 col2\" >1</td>\n",
              "      <td id=\"T_39239_row7_col3\" class=\"data row7 col3\" >1</td>\n",
              "      <td id=\"T_39239_row7_col4\" class=\"data row7 col4\" >0</td>\n",
              "      <td id=\"T_39239_row7_col5\" class=\"data row7 col5\" >0</td>\n",
              "      <td id=\"T_39239_row7_col6\" class=\"data row7 col6\" >1</td>\n",
              "      <td id=\"T_39239_row7_col7\" class=\"data row7 col7\" >1</td>\n",
              "      <td id=\"T_39239_row7_col8\" class=\"data row7 col8\" >1</td>\n",
              "      <td id=\"T_39239_row7_col9\" class=\"data row7 col9\" >0</td>\n",
              "    </tr>\n",
              "    <tr>\n",
              "      <th id=\"T_39239_level0_row8\" class=\"row_heading level0 row8\" >8</th>\n",
              "      <td id=\"T_39239_row8_col0\" class=\"data row8 col0\" >1</td>\n",
              "      <td id=\"T_39239_row8_col1\" class=\"data row8 col1\" >0</td>\n",
              "      <td id=\"T_39239_row8_col2\" class=\"data row8 col2\" >1</td>\n",
              "      <td id=\"T_39239_row8_col3\" class=\"data row8 col3\" >1</td>\n",
              "      <td id=\"T_39239_row8_col4\" class=\"data row8 col4\" >1</td>\n",
              "      <td id=\"T_39239_row8_col5\" class=\"data row8 col5\" >1</td>\n",
              "      <td id=\"T_39239_row8_col6\" class=\"data row8 col6\" >0</td>\n",
              "      <td id=\"T_39239_row8_col7\" class=\"data row8 col7\" >0</td>\n",
              "      <td id=\"T_39239_row8_col8\" class=\"data row8 col8\" >0</td>\n",
              "      <td id=\"T_39239_row8_col9\" class=\"data row8 col9\" >0</td>\n",
              "    </tr>\n",
              "    <tr>\n",
              "      <th id=\"T_39239_level0_row9\" class=\"row_heading level0 row9\" >9</th>\n",
              "      <td id=\"T_39239_row9_col0\" class=\"data row9 col0\" >1</td>\n",
              "      <td id=\"T_39239_row9_col1\" class=\"data row9 col1\" >0</td>\n",
              "      <td id=\"T_39239_row9_col2\" class=\"data row9 col2\" >1</td>\n",
              "      <td id=\"T_39239_row9_col3\" class=\"data row9 col3\" >0</td>\n",
              "      <td id=\"T_39239_row9_col4\" class=\"data row9 col4\" >0</td>\n",
              "      <td id=\"T_39239_row9_col5\" class=\"data row9 col5\" >1</td>\n",
              "      <td id=\"T_39239_row9_col6\" class=\"data row9 col6\" >0</td>\n",
              "      <td id=\"T_39239_row9_col7\" class=\"data row9 col7\" >0</td>\n",
              "      <td id=\"T_39239_row9_col8\" class=\"data row9 col8\" >1</td>\n",
              "      <td id=\"T_39239_row9_col9\" class=\"data row9 col9\" >1</td>\n",
              "    </tr>\n",
              "    <tr>\n",
              "      <th id=\"T_39239_level0_row10\" class=\"row_heading level0 row10\" >10</th>\n",
              "      <td id=\"T_39239_row10_col0\" class=\"data row10 col0\" >0</td>\n",
              "      <td id=\"T_39239_row10_col1\" class=\"data row10 col1\" >0</td>\n",
              "      <td id=\"T_39239_row10_col2\" class=\"data row10 col2\" >0</td>\n",
              "      <td id=\"T_39239_row10_col3\" class=\"data row10 col3\" >1</td>\n",
              "      <td id=\"T_39239_row10_col4\" class=\"data row10 col4\" >0</td>\n",
              "      <td id=\"T_39239_row10_col5\" class=\"data row10 col5\" >1</td>\n",
              "      <td id=\"T_39239_row10_col6\" class=\"data row10 col6\" >0</td>\n",
              "      <td id=\"T_39239_row10_col7\" class=\"data row10 col7\" >1</td>\n",
              "      <td id=\"T_39239_row10_col8\" class=\"data row10 col8\" >0</td>\n",
              "      <td id=\"T_39239_row10_col9\" class=\"data row10 col9\" >0</td>\n",
              "    </tr>\n",
              "    <tr>\n",
              "      <th id=\"T_39239_level0_row11\" class=\"row_heading level0 row11\" >11</th>\n",
              "      <td id=\"T_39239_row11_col0\" class=\"data row11 col0\" >0</td>\n",
              "      <td id=\"T_39239_row11_col1\" class=\"data row11 col1\" >0</td>\n",
              "      <td id=\"T_39239_row11_col2\" class=\"data row11 col2\" >0</td>\n",
              "      <td id=\"T_39239_row11_col3\" class=\"data row11 col3\" >0</td>\n",
              "      <td id=\"T_39239_row11_col4\" class=\"data row11 col4\" >0</td>\n",
              "      <td id=\"T_39239_row11_col5\" class=\"data row11 col5\" >1</td>\n",
              "      <td id=\"T_39239_row11_col6\" class=\"data row11 col6\" >1</td>\n",
              "      <td id=\"T_39239_row11_col7\" class=\"data row11 col7\" >0</td>\n",
              "      <td id=\"T_39239_row11_col8\" class=\"data row11 col8\" >0</td>\n",
              "      <td id=\"T_39239_row11_col9\" class=\"data row11 col9\" >1</td>\n",
              "    </tr>\n",
              "    <tr>\n",
              "      <th id=\"T_39239_level0_row12\" class=\"row_heading level0 row12\" >12</th>\n",
              "      <td id=\"T_39239_row12_col0\" class=\"data row12 col0\" >0</td>\n",
              "      <td id=\"T_39239_row12_col1\" class=\"data row12 col1\" >0</td>\n",
              "      <td id=\"T_39239_row12_col2\" class=\"data row12 col2\" >1</td>\n",
              "      <td id=\"T_39239_row12_col3\" class=\"data row12 col3\" >0</td>\n",
              "      <td id=\"T_39239_row12_col4\" class=\"data row12 col4\" >1</td>\n",
              "      <td id=\"T_39239_row12_col5\" class=\"data row12 col5\" >1</td>\n",
              "      <td id=\"T_39239_row12_col6\" class=\"data row12 col6\" >0</td>\n",
              "      <td id=\"T_39239_row12_col7\" class=\"data row12 col7\" >1</td>\n",
              "      <td id=\"T_39239_row12_col8\" class=\"data row12 col8\" >0</td>\n",
              "      <td id=\"T_39239_row12_col9\" class=\"data row12 col9\" >1</td>\n",
              "    </tr>\n",
              "    <tr>\n",
              "      <th id=\"T_39239_level0_row13\" class=\"row_heading level0 row13\" >13</th>\n",
              "      <td id=\"T_39239_row13_col0\" class=\"data row13 col0\" >0</td>\n",
              "      <td id=\"T_39239_row13_col1\" class=\"data row13 col1\" >1</td>\n",
              "      <td id=\"T_39239_row13_col2\" class=\"data row13 col2\" >0</td>\n",
              "      <td id=\"T_39239_row13_col3\" class=\"data row13 col3\" >1</td>\n",
              "      <td id=\"T_39239_row13_col4\" class=\"data row13 col4\" >0</td>\n",
              "      <td id=\"T_39239_row13_col5\" class=\"data row13 col5\" >0</td>\n",
              "      <td id=\"T_39239_row13_col6\" class=\"data row13 col6\" >0</td>\n",
              "      <td id=\"T_39239_row13_col7\" class=\"data row13 col7\" >1</td>\n",
              "      <td id=\"T_39239_row13_col8\" class=\"data row13 col8\" >1</td>\n",
              "      <td id=\"T_39239_row13_col9\" class=\"data row13 col9\" >0</td>\n",
              "    </tr>\n",
              "    <tr>\n",
              "      <th id=\"T_39239_level0_row14\" class=\"row_heading level0 row14\" >14</th>\n",
              "      <td id=\"T_39239_row14_col0\" class=\"data row14 col0\" >1</td>\n",
              "      <td id=\"T_39239_row14_col1\" class=\"data row14 col1\" >0</td>\n",
              "      <td id=\"T_39239_row14_col2\" class=\"data row14 col2\" >0</td>\n",
              "      <td id=\"T_39239_row14_col3\" class=\"data row14 col3\" >0</td>\n",
              "      <td id=\"T_39239_row14_col4\" class=\"data row14 col4\" >0</td>\n",
              "      <td id=\"T_39239_row14_col5\" class=\"data row14 col5\" >1</td>\n",
              "      <td id=\"T_39239_row14_col6\" class=\"data row14 col6\" >1</td>\n",
              "      <td id=\"T_39239_row14_col7\" class=\"data row14 col7\" >0</td>\n",
              "      <td id=\"T_39239_row14_col8\" class=\"data row14 col8\" >0</td>\n",
              "      <td id=\"T_39239_row14_col9\" class=\"data row14 col9\" >0</td>\n",
              "    </tr>\n",
              "  </tbody>\n",
              "</table>\n"
            ]
          },
          "metadata": {},
          "execution_count": 296
        }
      ],
      "source": [
        "df = pd.DataFrame(data, columns = [str(i) for i in range(1, 11)])\n",
        "df.columns.name = 'WorkDay'\n",
        "df.index.name = 'Employee'\n",
        "print(\"員工可上班時間調查表:\")\n",
        "df.style.applymap(highlight_availability)"
      ]
    },
    {
      "cell_type": "code",
      "source": [
        "# 輸出調查表\n",
        "df.to_csv('員工可上班時間表.csv')"
      ],
      "metadata": {
        "id": "BS8g_UQtN8Hk"
      },
      "id": "BS8g_UQtN8Hk",
      "execution_count": 297,
      "outputs": []
    },
    {
      "cell_type": "markdown",
      "id": "638e7fe0",
      "metadata": {
        "id": "638e7fe0"
      },
      "source": [
        "## **設定公司每個上班日所需人數**"
      ]
    },
    {
      "cell_type": "code",
      "execution_count": 298,
      "id": "beaa7955",
      "metadata": {
        "ExecuteTime": {
          "end_time": "2023-06-07T15:03:52.417927Z",
          "start_time": "2023-06-07T15:03:52.404961Z"
        },
        "id": "beaa7955"
      },
      "outputs": [],
      "source": [
        "# 公司每個上班日需要的員工數量\n",
        "workdayRequirements = {\n",
        "    '1': 3,\n",
        "    '2': 4,\n",
        "    '3': 3,\n",
        "    '4': 3,\n",
        "    '5': 4,\n",
        "    '6': 2,\n",
        "    '7': 3,\n",
        "    '8': 3,\n",
        "    '9': 3,\n",
        "    '10': 2\n",
        "}"
      ]
    },
    {
      "cell_type": "markdown",
      "id": "9c7330e1",
      "metadata": {
        "id": "9c7330e1"
      },
      "source": [
        "## **設定每日人事成本**"
      ]
    },
    {
      "cell_type": "code",
      "execution_count": 299,
      "id": "d11e6143",
      "metadata": {
        "ExecuteTime": {
          "end_time": "2023-06-07T15:03:52.434237Z",
          "start_time": "2023-06-07T15:03:52.420919Z"
        },
        "id": "d11e6143"
      },
      "outputs": [],
      "source": [
        "daily_wage = 1600 # 8hr * 180NTW"
      ]
    },
    {
      "cell_type": "markdown",
      "id": "1eaf4e55",
      "metadata": {
        "id": "1eaf4e55"
      },
      "source": [
        "---"
      ]
    },
    {
      "cell_type": "markdown",
      "id": "5cf94c02",
      "metadata": {
        "id": "5cf94c02"
      },
      "source": [
        "# **1. 單一目標: Goal1 讓員工上班日盡量平均**"
      ]
    },
    {
      "cell_type": "markdown",
      "id": "42107d93",
      "metadata": {
        "id": "42107d93"
      },
      "source": [
        "上班最多天員工的上班天數 - 上班最少天員工的上班天數 <= 1"
      ]
    },
    {
      "cell_type": "markdown",
      "id": "eac906fb",
      "metadata": {
        "id": "eac906fb"
      },
      "source": [
        "## **建立模型**"
      ]
    },
    {
      "cell_type": "code",
      "source": [
        "try:\n",
        "    from gurobipy import *\n",
        "except:\n",
        "    !pip install gurobipy\n",
        "finally:\n",
        "    from gurobipy import *"
      ],
      "metadata": {
        "id": "-nLdkzKbZ3c_"
      },
      "id": "-nLdkzKbZ3c_",
      "execution_count": 300,
      "outputs": []
    },
    {
      "cell_type": "code",
      "execution_count": 301,
      "id": "7f27aa3f",
      "metadata": {
        "ExecuteTime": {
          "end_time": "2023-06-07T15:03:52.482415Z",
          "start_time": "2023-06-07T15:03:52.466906Z"
        },
        "id": "7f27aa3f"
      },
      "outputs": [],
      "source": [
        "# 建模\n",
        "m1 = Model('員工排班')"
      ]
    },
    {
      "cell_type": "markdown",
      "id": "1ab48649",
      "metadata": {
        "id": "1ab48649"
      },
      "source": [
        "### **設計變數**"
      ]
    },
    {
      "cell_type": "code",
      "execution_count": 302,
      "id": "b811ec8c",
      "metadata": {
        "ExecuteTime": {
          "end_time": "2023-06-07T15:03:52.508651Z",
          "start_time": "2023-06-07T15:03:52.486009Z"
        },
        "id": "b811ec8c"
      },
      "outputs": [],
      "source": [
        "# Decision Variable\n",
        "x = m1.addVars(df.index, df.columns, vtype = GRB.BINARY, name = 'x')\n",
        "\n",
        "\n",
        "for employee in df.index:\n",
        "    for workday in df.columns:\n",
        "        if df.loc[employee, workday] != 1:\n",
        "            x[employee, workday].UB = 0  # 設置不可上班的變數上限為 0"
      ]
    },
    {
      "cell_type": "markdown",
      "id": "e19b28d9",
      "metadata": {
        "id": "e19b28d9"
      },
      "source": [
        "### **輔助變數**"
      ]
    },
    {
      "cell_type": "code",
      "execution_count": 303,
      "id": "f7895405",
      "metadata": {
        "ExecuteTime": {
          "end_time": "2023-06-07T15:03:52.524350Z",
          "start_time": "2023-06-07T15:03:52.517365Z"
        },
        "id": "f7895405"
      },
      "outputs": [],
      "source": [
        "# Auxiliary Variable\n",
        "totalWorkdays = m1.addVars(df.sum(axis=1).index, name=\"TotalWorkdays\")\n",
        "minWorkday = m1.addVar(name='minWorkday')\n",
        "maxWorkday = m1.addVar(name='maxWorkday')\n",
        "n1 = m1.addVar(lb = 0, name='n1')\n",
        "p1 = m1.addVar(lb = 0, name='p1')"
      ]
    },
    {
      "cell_type": "code",
      "execution_count": 304,
      "id": "8dd7d79e",
      "metadata": {
        "ExecuteTime": {
          "end_time": "2023-06-07T15:03:52.539825Z",
          "start_time": "2023-06-07T15:03:52.527341Z"
        },
        "id": "8dd7d79e"
      },
      "outputs": [],
      "source": [
        "# 限制式: 每個工作日都需要有一定數量的員工上班\n",
        "workday_requirement = m1.addConstrs((x.sum('*', w) >= workdayRequirements[w] for w in df.columns),\n",
        "                                   name = 'workdayRequirement')\n",
        "\n",
        "# 限制式: 每個員工可出席的工作日總數\n",
        "num_workdays = m1.addConstrs((x.sum(e, '*') == totalWorkdays[e] for e in df.index), name='totalWorkdays')\n",
        "\n",
        "min_workday = m1.addGenConstrMin(minWorkday, totalWorkdays, name = 'minWorkdays')\n",
        "max_workday = m1.addGenConstrMax(maxWorkday, totalWorkdays, name = 'maxWorkdays')\n",
        "\n",
        "goal1 = m1.addConstr(((maxWorkday - minWorkday) + n1 - p1 == 1), name='goal1')\n"
      ]
    },
    {
      "cell_type": "code",
      "execution_count": 305,
      "id": "7a88edfc",
      "metadata": {
        "ExecuteTime": {
          "end_time": "2023-06-07T15:03:52.594357Z",
          "start_time": "2023-06-07T15:03:52.543815Z"
        },
        "colab": {
          "base_uri": "https://localhost:8080/"
        },
        "id": "7a88edfc",
        "outputId": "9d84b138-d5de-46f0-b85f-5b6afd00293d"
      },
      "outputs": [
        {
          "output_type": "stream",
          "name": "stdout",
          "text": [
            "Gurobi Optimizer version 10.0.1 build v10.0.1rc0 (linux64)\n",
            "\n",
            "CPU model: AMD EPYC 7B12, instruction set [SSE2|AVX|AVX2]\n",
            "Thread count: 1 physical cores, 2 logical processors, using up to 2 threads\n",
            "\n",
            "Optimize a model with 26 rows, 169 columns and 319 nonzeros\n",
            "Model fingerprint: 0xa7595b67\n",
            "Model has 2 general constraints\n",
            "Variable types: 19 continuous, 150 integer (150 binary)\n",
            "Coefficient statistics:\n",
            "  Matrix range     [1e+00, 1e+00]\n",
            "  Objective range  [1e+00, 1e+01]\n",
            "  Bounds range     [1e+00, 1e+00]\n",
            "  RHS range        [1e+00, 4e+00]\n",
            "Presolve added 55 rows and 0 columns\n",
            "Presolve removed 0 rows and 41 columns\n",
            "Presolve time: 0.00s\n",
            "Presolved: 81 rows, 128 columns, 546 nonzeros\n",
            "Variable types: 33 continuous, 95 integer (86 binary)\n",
            "Found heuristic solution: objective 30.0000000\n",
            "Found heuristic solution: objective 10.0000000\n",
            "Found heuristic solution: objective 1.0000000\n",
            "Found heuristic solution: objective 0.0000000\n",
            "\n",
            "Root relaxation: cutoff, 0 iterations, 0.00 seconds (0.00 work units)\n",
            "\n",
            "Explored 1 nodes (0 simplex iterations) in 0.02 seconds (0.00 work units)\n",
            "Thread count was 2 (of 2 available processors)\n",
            "\n",
            "Solution count 4: 3.10862e-15 1 10 30 \n",
            "\n",
            "Optimal solution found (tolerance 1.00e-04)\n",
            "Best objective 3.108624468950e-15, best bound 3.108624468950e-15, gap 0.0000%\n"
          ]
        }
      ],
      "source": [
        "# 加入目標式\n",
        "m1.setObjective(n1 + 10*p1, GRB.MINIMIZE)\n",
        "\n",
        "m1.optimize()"
      ]
    },
    {
      "cell_type": "markdown",
      "id": "eac5fbe9",
      "metadata": {
        "id": "eac5fbe9"
      },
      "source": [
        "## **執行結果**"
      ]
    },
    {
      "cell_type": "code",
      "execution_count": 306,
      "id": "3c802d4f",
      "metadata": {
        "ExecuteTime": {
          "end_time": "2023-06-07T15:03:52.633934Z",
          "start_time": "2023-06-07T15:03:52.598345Z"
        },
        "colab": {
          "base_uri": "https://localhost:8080/",
          "height": 569
        },
        "id": "3c802d4f",
        "outputId": "742885bd-33db-4a14-8fd5-ee31d8722497"
      },
      "outputs": [
        {
          "output_type": "stream",
          "name": "stdout",
          "text": [
            "班表:\n"
          ]
        },
        {
          "output_type": "execute_result",
          "data": {
            "text/plain": [
              "<pandas.io.formats.style.Styler at 0x7f8af1a90970>"
            ],
            "text/html": [
              "<style type=\"text/css\">\n",
              "#T_a540e_row0_col2, #T_a540e_row0_col9, #T_a540e_row1_col1, #T_a540e_row1_col2, #T_a540e_row2_col0, #T_a540e_row2_col5, #T_a540e_row2_col6, #T_a540e_row3_col1, #T_a540e_row3_col4, #T_a540e_row3_col5, #T_a540e_row4_col0, #T_a540e_row4_col1, #T_a540e_row4_col4, #T_a540e_row5_col1, #T_a540e_row5_col2, #T_a540e_row5_col3, #T_a540e_row6_col2, #T_a540e_row6_col3, #T_a540e_row7_col3, #T_a540e_row7_col6, #T_a540e_row7_col8, #T_a540e_row8_col0, #T_a540e_row8_col4, #T_a540e_row9_col8, #T_a540e_row9_col9, #T_a540e_row10_col5, #T_a540e_row10_col7, #T_a540e_row11_col6, #T_a540e_row11_col9, #T_a540e_row12_col4, #T_a540e_row12_col7, #T_a540e_row13_col7, #T_a540e_row13_col8, #T_a540e_row14_col5, #T_a540e_row14_col6 {\n",
              "  background-color: gray;\n",
              "}\n",
              "</style>\n",
              "<table id=\"T_a540e\" class=\"dataframe\">\n",
              "  <thead>\n",
              "    <tr>\n",
              "      <th class=\"index_name level0\" >WorkDay</th>\n",
              "      <th id=\"T_a540e_level0_col0\" class=\"col_heading level0 col0\" >1</th>\n",
              "      <th id=\"T_a540e_level0_col1\" class=\"col_heading level0 col1\" >2</th>\n",
              "      <th id=\"T_a540e_level0_col2\" class=\"col_heading level0 col2\" >3</th>\n",
              "      <th id=\"T_a540e_level0_col3\" class=\"col_heading level0 col3\" >4</th>\n",
              "      <th id=\"T_a540e_level0_col4\" class=\"col_heading level0 col4\" >5</th>\n",
              "      <th id=\"T_a540e_level0_col5\" class=\"col_heading level0 col5\" >6</th>\n",
              "      <th id=\"T_a540e_level0_col6\" class=\"col_heading level0 col6\" >7</th>\n",
              "      <th id=\"T_a540e_level0_col7\" class=\"col_heading level0 col7\" >8</th>\n",
              "      <th id=\"T_a540e_level0_col8\" class=\"col_heading level0 col8\" >9</th>\n",
              "      <th id=\"T_a540e_level0_col9\" class=\"col_heading level0 col9\" >10</th>\n",
              "    </tr>\n",
              "    <tr>\n",
              "      <th class=\"index_name level0\" >Employee</th>\n",
              "      <th class=\"blank col0\" >&nbsp;</th>\n",
              "      <th class=\"blank col1\" >&nbsp;</th>\n",
              "      <th class=\"blank col2\" >&nbsp;</th>\n",
              "      <th class=\"blank col3\" >&nbsp;</th>\n",
              "      <th class=\"blank col4\" >&nbsp;</th>\n",
              "      <th class=\"blank col5\" >&nbsp;</th>\n",
              "      <th class=\"blank col6\" >&nbsp;</th>\n",
              "      <th class=\"blank col7\" >&nbsp;</th>\n",
              "      <th class=\"blank col8\" >&nbsp;</th>\n",
              "      <th class=\"blank col9\" >&nbsp;</th>\n",
              "    </tr>\n",
              "  </thead>\n",
              "  <tbody>\n",
              "    <tr>\n",
              "      <th id=\"T_a540e_level0_row0\" class=\"row_heading level0 row0\" >0</th>\n",
              "      <td id=\"T_a540e_row0_col0\" class=\"data row0 col0\" >0</td>\n",
              "      <td id=\"T_a540e_row0_col1\" class=\"data row0 col1\" >0</td>\n",
              "      <td id=\"T_a540e_row0_col2\" class=\"data row0 col2\" >1</td>\n",
              "      <td id=\"T_a540e_row0_col3\" class=\"data row0 col3\" >0</td>\n",
              "      <td id=\"T_a540e_row0_col4\" class=\"data row0 col4\" >0</td>\n",
              "      <td id=\"T_a540e_row0_col5\" class=\"data row0 col5\" >0</td>\n",
              "      <td id=\"T_a540e_row0_col6\" class=\"data row0 col6\" >0</td>\n",
              "      <td id=\"T_a540e_row0_col7\" class=\"data row0 col7\" >0</td>\n",
              "      <td id=\"T_a540e_row0_col8\" class=\"data row0 col8\" >0</td>\n",
              "      <td id=\"T_a540e_row0_col9\" class=\"data row0 col9\" >1</td>\n",
              "    </tr>\n",
              "    <tr>\n",
              "      <th id=\"T_a540e_level0_row1\" class=\"row_heading level0 row1\" >1</th>\n",
              "      <td id=\"T_a540e_row1_col0\" class=\"data row1 col0\" >0</td>\n",
              "      <td id=\"T_a540e_row1_col1\" class=\"data row1 col1\" >1</td>\n",
              "      <td id=\"T_a540e_row1_col2\" class=\"data row1 col2\" >1</td>\n",
              "      <td id=\"T_a540e_row1_col3\" class=\"data row1 col3\" >0</td>\n",
              "      <td id=\"T_a540e_row1_col4\" class=\"data row1 col4\" >0</td>\n",
              "      <td id=\"T_a540e_row1_col5\" class=\"data row1 col5\" >0</td>\n",
              "      <td id=\"T_a540e_row1_col6\" class=\"data row1 col6\" >0</td>\n",
              "      <td id=\"T_a540e_row1_col7\" class=\"data row1 col7\" >0</td>\n",
              "      <td id=\"T_a540e_row1_col8\" class=\"data row1 col8\" >0</td>\n",
              "      <td id=\"T_a540e_row1_col9\" class=\"data row1 col9\" >0</td>\n",
              "    </tr>\n",
              "    <tr>\n",
              "      <th id=\"T_a540e_level0_row2\" class=\"row_heading level0 row2\" >2</th>\n",
              "      <td id=\"T_a540e_row2_col0\" class=\"data row2 col0\" >1</td>\n",
              "      <td id=\"T_a540e_row2_col1\" class=\"data row2 col1\" >0</td>\n",
              "      <td id=\"T_a540e_row2_col2\" class=\"data row2 col2\" >0</td>\n",
              "      <td id=\"T_a540e_row2_col3\" class=\"data row2 col3\" >0</td>\n",
              "      <td id=\"T_a540e_row2_col4\" class=\"data row2 col4\" >0</td>\n",
              "      <td id=\"T_a540e_row2_col5\" class=\"data row2 col5\" >1</td>\n",
              "      <td id=\"T_a540e_row2_col6\" class=\"data row2 col6\" >1</td>\n",
              "      <td id=\"T_a540e_row2_col7\" class=\"data row2 col7\" >0</td>\n",
              "      <td id=\"T_a540e_row2_col8\" class=\"data row2 col8\" >0</td>\n",
              "      <td id=\"T_a540e_row2_col9\" class=\"data row2 col9\" >0</td>\n",
              "    </tr>\n",
              "    <tr>\n",
              "      <th id=\"T_a540e_level0_row3\" class=\"row_heading level0 row3\" >3</th>\n",
              "      <td id=\"T_a540e_row3_col0\" class=\"data row3 col0\" >0</td>\n",
              "      <td id=\"T_a540e_row3_col1\" class=\"data row3 col1\" >1</td>\n",
              "      <td id=\"T_a540e_row3_col2\" class=\"data row3 col2\" >0</td>\n",
              "      <td id=\"T_a540e_row3_col3\" class=\"data row3 col3\" >0</td>\n",
              "      <td id=\"T_a540e_row3_col4\" class=\"data row3 col4\" >1</td>\n",
              "      <td id=\"T_a540e_row3_col5\" class=\"data row3 col5\" >1</td>\n",
              "      <td id=\"T_a540e_row3_col6\" class=\"data row3 col6\" >0</td>\n",
              "      <td id=\"T_a540e_row3_col7\" class=\"data row3 col7\" >0</td>\n",
              "      <td id=\"T_a540e_row3_col8\" class=\"data row3 col8\" >0</td>\n",
              "      <td id=\"T_a540e_row3_col9\" class=\"data row3 col9\" >0</td>\n",
              "    </tr>\n",
              "    <tr>\n",
              "      <th id=\"T_a540e_level0_row4\" class=\"row_heading level0 row4\" >4</th>\n",
              "      <td id=\"T_a540e_row4_col0\" class=\"data row4 col0\" >1</td>\n",
              "      <td id=\"T_a540e_row4_col1\" class=\"data row4 col1\" >1</td>\n",
              "      <td id=\"T_a540e_row4_col2\" class=\"data row4 col2\" >0</td>\n",
              "      <td id=\"T_a540e_row4_col3\" class=\"data row4 col3\" >0</td>\n",
              "      <td id=\"T_a540e_row4_col4\" class=\"data row4 col4\" >1</td>\n",
              "      <td id=\"T_a540e_row4_col5\" class=\"data row4 col5\" >0</td>\n",
              "      <td id=\"T_a540e_row4_col6\" class=\"data row4 col6\" >0</td>\n",
              "      <td id=\"T_a540e_row4_col7\" class=\"data row4 col7\" >0</td>\n",
              "      <td id=\"T_a540e_row4_col8\" class=\"data row4 col8\" >0</td>\n",
              "      <td id=\"T_a540e_row4_col9\" class=\"data row4 col9\" >0</td>\n",
              "    </tr>\n",
              "    <tr>\n",
              "      <th id=\"T_a540e_level0_row5\" class=\"row_heading level0 row5\" >5</th>\n",
              "      <td id=\"T_a540e_row5_col0\" class=\"data row5 col0\" >0</td>\n",
              "      <td id=\"T_a540e_row5_col1\" class=\"data row5 col1\" >1</td>\n",
              "      <td id=\"T_a540e_row5_col2\" class=\"data row5 col2\" >1</td>\n",
              "      <td id=\"T_a540e_row5_col3\" class=\"data row5 col3\" >1</td>\n",
              "      <td id=\"T_a540e_row5_col4\" class=\"data row5 col4\" >0</td>\n",
              "      <td id=\"T_a540e_row5_col5\" class=\"data row5 col5\" >0</td>\n",
              "      <td id=\"T_a540e_row5_col6\" class=\"data row5 col6\" >0</td>\n",
              "      <td id=\"T_a540e_row5_col7\" class=\"data row5 col7\" >0</td>\n",
              "      <td id=\"T_a540e_row5_col8\" class=\"data row5 col8\" >0</td>\n",
              "      <td id=\"T_a540e_row5_col9\" class=\"data row5 col9\" >0</td>\n",
              "    </tr>\n",
              "    <tr>\n",
              "      <th id=\"T_a540e_level0_row6\" class=\"row_heading level0 row6\" >6</th>\n",
              "      <td id=\"T_a540e_row6_col0\" class=\"data row6 col0\" >0</td>\n",
              "      <td id=\"T_a540e_row6_col1\" class=\"data row6 col1\" >0</td>\n",
              "      <td id=\"T_a540e_row6_col2\" class=\"data row6 col2\" >1</td>\n",
              "      <td id=\"T_a540e_row6_col3\" class=\"data row6 col3\" >1</td>\n",
              "      <td id=\"T_a540e_row6_col4\" class=\"data row6 col4\" >0</td>\n",
              "      <td id=\"T_a540e_row6_col5\" class=\"data row6 col5\" >0</td>\n",
              "      <td id=\"T_a540e_row6_col6\" class=\"data row6 col6\" >0</td>\n",
              "      <td id=\"T_a540e_row6_col7\" class=\"data row6 col7\" >0</td>\n",
              "      <td id=\"T_a540e_row6_col8\" class=\"data row6 col8\" >0</td>\n",
              "      <td id=\"T_a540e_row6_col9\" class=\"data row6 col9\" >0</td>\n",
              "    </tr>\n",
              "    <tr>\n",
              "      <th id=\"T_a540e_level0_row7\" class=\"row_heading level0 row7\" >7</th>\n",
              "      <td id=\"T_a540e_row7_col0\" class=\"data row7 col0\" >0</td>\n",
              "      <td id=\"T_a540e_row7_col1\" class=\"data row7 col1\" >0</td>\n",
              "      <td id=\"T_a540e_row7_col2\" class=\"data row7 col2\" >0</td>\n",
              "      <td id=\"T_a540e_row7_col3\" class=\"data row7 col3\" >1</td>\n",
              "      <td id=\"T_a540e_row7_col4\" class=\"data row7 col4\" >0</td>\n",
              "      <td id=\"T_a540e_row7_col5\" class=\"data row7 col5\" >0</td>\n",
              "      <td id=\"T_a540e_row7_col6\" class=\"data row7 col6\" >1</td>\n",
              "      <td id=\"T_a540e_row7_col7\" class=\"data row7 col7\" >0</td>\n",
              "      <td id=\"T_a540e_row7_col8\" class=\"data row7 col8\" >1</td>\n",
              "      <td id=\"T_a540e_row7_col9\" class=\"data row7 col9\" >0</td>\n",
              "    </tr>\n",
              "    <tr>\n",
              "      <th id=\"T_a540e_level0_row8\" class=\"row_heading level0 row8\" >8</th>\n",
              "      <td id=\"T_a540e_row8_col0\" class=\"data row8 col0\" >1</td>\n",
              "      <td id=\"T_a540e_row8_col1\" class=\"data row8 col1\" >0</td>\n",
              "      <td id=\"T_a540e_row8_col2\" class=\"data row8 col2\" >0</td>\n",
              "      <td id=\"T_a540e_row8_col3\" class=\"data row8 col3\" >0</td>\n",
              "      <td id=\"T_a540e_row8_col4\" class=\"data row8 col4\" >1</td>\n",
              "      <td id=\"T_a540e_row8_col5\" class=\"data row8 col5\" >0</td>\n",
              "      <td id=\"T_a540e_row8_col6\" class=\"data row8 col6\" >0</td>\n",
              "      <td id=\"T_a540e_row8_col7\" class=\"data row8 col7\" >0</td>\n",
              "      <td id=\"T_a540e_row8_col8\" class=\"data row8 col8\" >0</td>\n",
              "      <td id=\"T_a540e_row8_col9\" class=\"data row8 col9\" >0</td>\n",
              "    </tr>\n",
              "    <tr>\n",
              "      <th id=\"T_a540e_level0_row9\" class=\"row_heading level0 row9\" >9</th>\n",
              "      <td id=\"T_a540e_row9_col0\" class=\"data row9 col0\" >0</td>\n",
              "      <td id=\"T_a540e_row9_col1\" class=\"data row9 col1\" >0</td>\n",
              "      <td id=\"T_a540e_row9_col2\" class=\"data row9 col2\" >0</td>\n",
              "      <td id=\"T_a540e_row9_col3\" class=\"data row9 col3\" >0</td>\n",
              "      <td id=\"T_a540e_row9_col4\" class=\"data row9 col4\" >0</td>\n",
              "      <td id=\"T_a540e_row9_col5\" class=\"data row9 col5\" >0</td>\n",
              "      <td id=\"T_a540e_row9_col6\" class=\"data row9 col6\" >0</td>\n",
              "      <td id=\"T_a540e_row9_col7\" class=\"data row9 col7\" >0</td>\n",
              "      <td id=\"T_a540e_row9_col8\" class=\"data row9 col8\" >1</td>\n",
              "      <td id=\"T_a540e_row9_col9\" class=\"data row9 col9\" >1</td>\n",
              "    </tr>\n",
              "    <tr>\n",
              "      <th id=\"T_a540e_level0_row10\" class=\"row_heading level0 row10\" >10</th>\n",
              "      <td id=\"T_a540e_row10_col0\" class=\"data row10 col0\" >0</td>\n",
              "      <td id=\"T_a540e_row10_col1\" class=\"data row10 col1\" >0</td>\n",
              "      <td id=\"T_a540e_row10_col2\" class=\"data row10 col2\" >0</td>\n",
              "      <td id=\"T_a540e_row10_col3\" class=\"data row10 col3\" >0</td>\n",
              "      <td id=\"T_a540e_row10_col4\" class=\"data row10 col4\" >0</td>\n",
              "      <td id=\"T_a540e_row10_col5\" class=\"data row10 col5\" >1</td>\n",
              "      <td id=\"T_a540e_row10_col6\" class=\"data row10 col6\" >0</td>\n",
              "      <td id=\"T_a540e_row10_col7\" class=\"data row10 col7\" >1</td>\n",
              "      <td id=\"T_a540e_row10_col8\" class=\"data row10 col8\" >0</td>\n",
              "      <td id=\"T_a540e_row10_col9\" class=\"data row10 col9\" >0</td>\n",
              "    </tr>\n",
              "    <tr>\n",
              "      <th id=\"T_a540e_level0_row11\" class=\"row_heading level0 row11\" >11</th>\n",
              "      <td id=\"T_a540e_row11_col0\" class=\"data row11 col0\" >0</td>\n",
              "      <td id=\"T_a540e_row11_col1\" class=\"data row11 col1\" >0</td>\n",
              "      <td id=\"T_a540e_row11_col2\" class=\"data row11 col2\" >0</td>\n",
              "      <td id=\"T_a540e_row11_col3\" class=\"data row11 col3\" >0</td>\n",
              "      <td id=\"T_a540e_row11_col4\" class=\"data row11 col4\" >0</td>\n",
              "      <td id=\"T_a540e_row11_col5\" class=\"data row11 col5\" >0</td>\n",
              "      <td id=\"T_a540e_row11_col6\" class=\"data row11 col6\" >1</td>\n",
              "      <td id=\"T_a540e_row11_col7\" class=\"data row11 col7\" >0</td>\n",
              "      <td id=\"T_a540e_row11_col8\" class=\"data row11 col8\" >0</td>\n",
              "      <td id=\"T_a540e_row11_col9\" class=\"data row11 col9\" >1</td>\n",
              "    </tr>\n",
              "    <tr>\n",
              "      <th id=\"T_a540e_level0_row12\" class=\"row_heading level0 row12\" >12</th>\n",
              "      <td id=\"T_a540e_row12_col0\" class=\"data row12 col0\" >0</td>\n",
              "      <td id=\"T_a540e_row12_col1\" class=\"data row12 col1\" >0</td>\n",
              "      <td id=\"T_a540e_row12_col2\" class=\"data row12 col2\" >0</td>\n",
              "      <td id=\"T_a540e_row12_col3\" class=\"data row12 col3\" >0</td>\n",
              "      <td id=\"T_a540e_row12_col4\" class=\"data row12 col4\" >1</td>\n",
              "      <td id=\"T_a540e_row12_col5\" class=\"data row12 col5\" >0</td>\n",
              "      <td id=\"T_a540e_row12_col6\" class=\"data row12 col6\" >0</td>\n",
              "      <td id=\"T_a540e_row12_col7\" class=\"data row12 col7\" >1</td>\n",
              "      <td id=\"T_a540e_row12_col8\" class=\"data row12 col8\" >0</td>\n",
              "      <td id=\"T_a540e_row12_col9\" class=\"data row12 col9\" >0</td>\n",
              "    </tr>\n",
              "    <tr>\n",
              "      <th id=\"T_a540e_level0_row13\" class=\"row_heading level0 row13\" >13</th>\n",
              "      <td id=\"T_a540e_row13_col0\" class=\"data row13 col0\" >0</td>\n",
              "      <td id=\"T_a540e_row13_col1\" class=\"data row13 col1\" >0</td>\n",
              "      <td id=\"T_a540e_row13_col2\" class=\"data row13 col2\" >0</td>\n",
              "      <td id=\"T_a540e_row13_col3\" class=\"data row13 col3\" >0</td>\n",
              "      <td id=\"T_a540e_row13_col4\" class=\"data row13 col4\" >0</td>\n",
              "      <td id=\"T_a540e_row13_col5\" class=\"data row13 col5\" >0</td>\n",
              "      <td id=\"T_a540e_row13_col6\" class=\"data row13 col6\" >0</td>\n",
              "      <td id=\"T_a540e_row13_col7\" class=\"data row13 col7\" >1</td>\n",
              "      <td id=\"T_a540e_row13_col8\" class=\"data row13 col8\" >1</td>\n",
              "      <td id=\"T_a540e_row13_col9\" class=\"data row13 col9\" >0</td>\n",
              "    </tr>\n",
              "    <tr>\n",
              "      <th id=\"T_a540e_level0_row14\" class=\"row_heading level0 row14\" >14</th>\n",
              "      <td id=\"T_a540e_row14_col0\" class=\"data row14 col0\" >0</td>\n",
              "      <td id=\"T_a540e_row14_col1\" class=\"data row14 col1\" >0</td>\n",
              "      <td id=\"T_a540e_row14_col2\" class=\"data row14 col2\" >0</td>\n",
              "      <td id=\"T_a540e_row14_col3\" class=\"data row14 col3\" >0</td>\n",
              "      <td id=\"T_a540e_row14_col4\" class=\"data row14 col4\" >0</td>\n",
              "      <td id=\"T_a540e_row14_col5\" class=\"data row14 col5\" >1</td>\n",
              "      <td id=\"T_a540e_row14_col6\" class=\"data row14 col6\" >1</td>\n",
              "      <td id=\"T_a540e_row14_col7\" class=\"data row14 col7\" >0</td>\n",
              "      <td id=\"T_a540e_row14_col8\" class=\"data row14 col8\" >0</td>\n",
              "      <td id=\"T_a540e_row14_col9\" class=\"data row14 col9\" >0</td>\n",
              "    </tr>\n",
              "  </tbody>\n",
              "</table>\n"
            ]
          },
          "metadata": {},
          "execution_count": 306
        }
      ],
      "source": [
        "# 創建一個空的 DataFrame 來存放結果\n",
        "result_df = pd.DataFrame(0, index=df.index, columns=df.columns)\n",
        "\n",
        "# 將解中為 1 的變數對應的位置設置為 1\n",
        "for employee, workday in x.keys():\n",
        "    if x[employee, workday].X == 1:\n",
        "        result_df.loc[employee, workday] = 1\n",
        "\n",
        "# 結果\n",
        "print(\"班表:\")\n",
        "result_df.style.applymap(highlight_availability)"
      ]
    },
    {
      "cell_type": "code",
      "execution_count": 307,
      "id": "eba3ea34",
      "metadata": {
        "ExecuteTime": {
          "end_time": "2023-06-07T15:03:52.658583Z",
          "start_time": "2023-06-07T15:03:52.636924Z"
        },
        "colab": {
          "base_uri": "https://localhost:8080/"
        },
        "id": "eba3ea34",
        "outputId": "d47f0c7f-92ae-455c-8485-5005b652556e"
      },
      "outputs": [
        {
          "output_type": "stream",
          "name": "stdout",
          "text": [
            "工作天數全距: 1 天\n",
            "人事成本56000 元\n"
          ]
        }
      ],
      "source": [
        "print(f'工作天數全距: {result_df.sum(axis=1).max() - result_df.sum(axis=1).min()} 天')\n",
        "print(f'人事成本{daily_wage * result_df.sum().sum()} 元')"
      ]
    },
    {
      "cell_type": "code",
      "source": [
        "# 輸出班表\n",
        "result_df.to_csv('考慮目標一班表.csv')"
      ],
      "metadata": {
        "id": "WIj6qG34OHcd"
      },
      "id": "WIj6qG34OHcd",
      "execution_count": 308,
      "outputs": []
    },
    {
      "cell_type": "markdown",
      "id": "18d59b16",
      "metadata": {
        "id": "18d59b16"
      },
      "source": [
        "---"
      ]
    },
    {
      "cell_type": "markdown",
      "id": "53418366",
      "metadata": {
        "id": "53418366"
      },
      "source": [
        "# **2. 單一目標: Goal2 成本極小化**"
      ]
    },
    {
      "cell_type": "markdown",
      "id": "e8301f56",
      "metadata": {
        "id": "e8301f56"
      },
      "source": [
        "最小化人事成本"
      ]
    },
    {
      "cell_type": "code",
      "execution_count": 309,
      "id": "8b544ebc",
      "metadata": {
        "ExecuteTime": {
          "end_time": "2023-06-07T15:03:52.690039Z",
          "start_time": "2023-06-07T15:03:52.662572Z"
        },
        "id": "8b544ebc"
      },
      "outputs": [],
      "source": [
        "# 建模\n",
        "m2 = Model('員工排班')\n",
        "\n",
        "# Decision Variable\n",
        "x = m2.addVars(df.index, df.columns, vtype = GRB.BINARY, name = 'x')\n",
        "\n",
        "\n",
        "for employee in df.index:\n",
        "    for workday in df.columns:\n",
        "        if df.loc[employee, workday] != 1:\n",
        "            x[employee, workday].UB = 0  # 設置不可上班的變數上限為 0"
      ]
    },
    {
      "cell_type": "code",
      "execution_count": 310,
      "id": "2cee5a89",
      "metadata": {
        "ExecuteTime": {
          "end_time": "2023-06-07T15:03:52.714974Z",
          "start_time": "2023-06-07T15:03:52.693032Z"
        },
        "id": "2cee5a89"
      },
      "outputs": [],
      "source": [
        "# 輔助變數\n",
        "totalWorkdays = m2.addVars(df.sum(axis=1).index, name=\"TotalWorkdays\")\n",
        "n2 = m2.addVar(lb = 0, name = 'n2')\n",
        "p2 = m2.addVar(lb = 0, name = 'p2')\n",
        "\n",
        "# 限制式: 每個工作日都需要有一定數量的員工上班\n",
        "workday_requirement = m2.addConstrs((x.sum('*', w) >= workdayRequirements[w] for w in df.columns),\n",
        "                                   name = 'workdayRequirement')\n",
        "\n",
        "# 限制式: 每個員工可出席的工作日總數\n",
        "num_workdays = m2.addConstrs((x.sum(e, '*') == totalWorkdays[e] for e in df.index), name='totalWorkdays')\n",
        "\n",
        "# 限制式: 目標函數\n",
        "goal2 = m2.addConstr((daily_wage*totalWorkdays.sum() + n2 - p2 == 50000), name='goal2')"
      ]
    },
    {
      "cell_type": "code",
      "execution_count": 311,
      "id": "c229e5a8",
      "metadata": {
        "ExecuteTime": {
          "end_time": "2023-06-07T15:03:52.764001Z",
          "start_time": "2023-06-07T15:03:52.719235Z"
        },
        "colab": {
          "base_uri": "https://localhost:8080/"
        },
        "id": "c229e5a8",
        "outputId": "71fad156-92b3-4a26-d58f-8d87bd1eb2f9"
      },
      "outputs": [
        {
          "output_type": "stream",
          "name": "stdout",
          "text": [
            "Gurobi Optimizer version 10.0.1 build v10.0.1rc0 (linux64)\n",
            "\n",
            "CPU model: AMD EPYC 7B12, instruction set [SSE2|AVX|AVX2]\n",
            "Thread count: 1 physical cores, 2 logical processors, using up to 2 threads\n",
            "\n",
            "Optimize a model with 26 rows, 167 columns and 332 nonzeros\n",
            "Model fingerprint: 0x393012e4\n",
            "Variable types: 17 continuous, 150 integer (150 binary)\n",
            "Coefficient statistics:\n",
            "  Matrix range     [1e+00, 2e+03]\n",
            "  Objective range  [1e+00, 1e+01]\n",
            "  Bounds range     [1e+00, 1e+00]\n",
            "  RHS range        [2e+00, 5e+04]\n",
            "Found heuristic solution: objective 2000.0000000\n",
            "Presolve removed 25 rows and 165 columns\n",
            "Presolve time: 0.00s\n",
            "Presolved: 1 rows, 2 columns, 2 nonzeros\n",
            "Found heuristic solution: objective 400.0000000\n",
            "Variable types: 0 continuous, 2 integer (0 binary)\n",
            "\n",
            "Explored 0 nodes (0 simplex iterations) in 0.01 seconds (0.00 work units)\n",
            "Thread count was 2 (of 2 available processors)\n",
            "\n",
            "Solution count 2: 400 2000 \n",
            "\n",
            "Optimal solution found (tolerance 1.00e-04)\n",
            "Best objective 4.000000000000e+02, best bound 4.000000000000e+02, gap 0.0000%\n"
          ]
        }
      ],
      "source": [
        "# 目標式\n",
        "m2.setObjective(n2 + 10*p2, GRB.MINIMIZE)\n",
        "\n",
        "m2.optimize()"
      ]
    },
    {
      "cell_type": "code",
      "execution_count": 312,
      "id": "c11c563c",
      "metadata": {
        "ExecuteTime": {
          "end_time": "2023-06-07T15:03:52.795175Z",
          "start_time": "2023-06-07T15:03:52.768248Z"
        },
        "colab": {
          "base_uri": "https://localhost:8080/",
          "height": 569
        },
        "id": "c11c563c",
        "outputId": "b9142155-c836-4f11-9478-ac2496c1b204"
      },
      "outputs": [
        {
          "output_type": "stream",
          "name": "stdout",
          "text": [
            "班表:\n"
          ]
        },
        {
          "output_type": "execute_result",
          "data": {
            "text/plain": [
              "<pandas.io.formats.style.Styler at 0x7f8af1a90670>"
            ],
            "text/html": [
              "<style type=\"text/css\">\n",
              "#T_babc9_row1_col1, #T_babc9_row1_col2, #T_babc9_row2_col5, #T_babc9_row3_col1, #T_babc9_row3_col4, #T_babc9_row3_col9, #T_babc9_row4_col4, #T_babc9_row5_col1, #T_babc9_row5_col3, #T_babc9_row7_col1, #T_babc9_row7_col2, #T_babc9_row7_col3, #T_babc9_row7_col6, #T_babc9_row7_col8, #T_babc9_row8_col0, #T_babc9_row8_col3, #T_babc9_row8_col4, #T_babc9_row9_col0, #T_babc9_row9_col2, #T_babc9_row9_col8, #T_babc9_row10_col5, #T_babc9_row10_col7, #T_babc9_row11_col6, #T_babc9_row11_col9, #T_babc9_row12_col4, #T_babc9_row12_col5, #T_babc9_row12_col7, #T_babc9_row13_col7, #T_babc9_row13_col8, #T_babc9_row14_col0, #T_babc9_row14_col6 {\n",
              "  background-color: gray;\n",
              "}\n",
              "</style>\n",
              "<table id=\"T_babc9\" class=\"dataframe\">\n",
              "  <thead>\n",
              "    <tr>\n",
              "      <th class=\"index_name level0\" >WorkDay</th>\n",
              "      <th id=\"T_babc9_level0_col0\" class=\"col_heading level0 col0\" >1</th>\n",
              "      <th id=\"T_babc9_level0_col1\" class=\"col_heading level0 col1\" >2</th>\n",
              "      <th id=\"T_babc9_level0_col2\" class=\"col_heading level0 col2\" >3</th>\n",
              "      <th id=\"T_babc9_level0_col3\" class=\"col_heading level0 col3\" >4</th>\n",
              "      <th id=\"T_babc9_level0_col4\" class=\"col_heading level0 col4\" >5</th>\n",
              "      <th id=\"T_babc9_level0_col5\" class=\"col_heading level0 col5\" >6</th>\n",
              "      <th id=\"T_babc9_level0_col6\" class=\"col_heading level0 col6\" >7</th>\n",
              "      <th id=\"T_babc9_level0_col7\" class=\"col_heading level0 col7\" >8</th>\n",
              "      <th id=\"T_babc9_level0_col8\" class=\"col_heading level0 col8\" >9</th>\n",
              "      <th id=\"T_babc9_level0_col9\" class=\"col_heading level0 col9\" >10</th>\n",
              "    </tr>\n",
              "    <tr>\n",
              "      <th class=\"index_name level0\" >Employee</th>\n",
              "      <th class=\"blank col0\" >&nbsp;</th>\n",
              "      <th class=\"blank col1\" >&nbsp;</th>\n",
              "      <th class=\"blank col2\" >&nbsp;</th>\n",
              "      <th class=\"blank col3\" >&nbsp;</th>\n",
              "      <th class=\"blank col4\" >&nbsp;</th>\n",
              "      <th class=\"blank col5\" >&nbsp;</th>\n",
              "      <th class=\"blank col6\" >&nbsp;</th>\n",
              "      <th class=\"blank col7\" >&nbsp;</th>\n",
              "      <th class=\"blank col8\" >&nbsp;</th>\n",
              "      <th class=\"blank col9\" >&nbsp;</th>\n",
              "    </tr>\n",
              "  </thead>\n",
              "  <tbody>\n",
              "    <tr>\n",
              "      <th id=\"T_babc9_level0_row0\" class=\"row_heading level0 row0\" >0</th>\n",
              "      <td id=\"T_babc9_row0_col0\" class=\"data row0 col0\" >0</td>\n",
              "      <td id=\"T_babc9_row0_col1\" class=\"data row0 col1\" >0</td>\n",
              "      <td id=\"T_babc9_row0_col2\" class=\"data row0 col2\" >0</td>\n",
              "      <td id=\"T_babc9_row0_col3\" class=\"data row0 col3\" >0</td>\n",
              "      <td id=\"T_babc9_row0_col4\" class=\"data row0 col4\" >0</td>\n",
              "      <td id=\"T_babc9_row0_col5\" class=\"data row0 col5\" >0</td>\n",
              "      <td id=\"T_babc9_row0_col6\" class=\"data row0 col6\" >0</td>\n",
              "      <td id=\"T_babc9_row0_col7\" class=\"data row0 col7\" >0</td>\n",
              "      <td id=\"T_babc9_row0_col8\" class=\"data row0 col8\" >0</td>\n",
              "      <td id=\"T_babc9_row0_col9\" class=\"data row0 col9\" >0</td>\n",
              "    </tr>\n",
              "    <tr>\n",
              "      <th id=\"T_babc9_level0_row1\" class=\"row_heading level0 row1\" >1</th>\n",
              "      <td id=\"T_babc9_row1_col0\" class=\"data row1 col0\" >0</td>\n",
              "      <td id=\"T_babc9_row1_col1\" class=\"data row1 col1\" >1</td>\n",
              "      <td id=\"T_babc9_row1_col2\" class=\"data row1 col2\" >1</td>\n",
              "      <td id=\"T_babc9_row1_col3\" class=\"data row1 col3\" >0</td>\n",
              "      <td id=\"T_babc9_row1_col4\" class=\"data row1 col4\" >0</td>\n",
              "      <td id=\"T_babc9_row1_col5\" class=\"data row1 col5\" >0</td>\n",
              "      <td id=\"T_babc9_row1_col6\" class=\"data row1 col6\" >0</td>\n",
              "      <td id=\"T_babc9_row1_col7\" class=\"data row1 col7\" >0</td>\n",
              "      <td id=\"T_babc9_row1_col8\" class=\"data row1 col8\" >0</td>\n",
              "      <td id=\"T_babc9_row1_col9\" class=\"data row1 col9\" >0</td>\n",
              "    </tr>\n",
              "    <tr>\n",
              "      <th id=\"T_babc9_level0_row2\" class=\"row_heading level0 row2\" >2</th>\n",
              "      <td id=\"T_babc9_row2_col0\" class=\"data row2 col0\" >0</td>\n",
              "      <td id=\"T_babc9_row2_col1\" class=\"data row2 col1\" >0</td>\n",
              "      <td id=\"T_babc9_row2_col2\" class=\"data row2 col2\" >0</td>\n",
              "      <td id=\"T_babc9_row2_col3\" class=\"data row2 col3\" >0</td>\n",
              "      <td id=\"T_babc9_row2_col4\" class=\"data row2 col4\" >0</td>\n",
              "      <td id=\"T_babc9_row2_col5\" class=\"data row2 col5\" >1</td>\n",
              "      <td id=\"T_babc9_row2_col6\" class=\"data row2 col6\" >0</td>\n",
              "      <td id=\"T_babc9_row2_col7\" class=\"data row2 col7\" >0</td>\n",
              "      <td id=\"T_babc9_row2_col8\" class=\"data row2 col8\" >0</td>\n",
              "      <td id=\"T_babc9_row2_col9\" class=\"data row2 col9\" >0</td>\n",
              "    </tr>\n",
              "    <tr>\n",
              "      <th id=\"T_babc9_level0_row3\" class=\"row_heading level0 row3\" >3</th>\n",
              "      <td id=\"T_babc9_row3_col0\" class=\"data row3 col0\" >0</td>\n",
              "      <td id=\"T_babc9_row3_col1\" class=\"data row3 col1\" >1</td>\n",
              "      <td id=\"T_babc9_row3_col2\" class=\"data row3 col2\" >0</td>\n",
              "      <td id=\"T_babc9_row3_col3\" class=\"data row3 col3\" >0</td>\n",
              "      <td id=\"T_babc9_row3_col4\" class=\"data row3 col4\" >1</td>\n",
              "      <td id=\"T_babc9_row3_col5\" class=\"data row3 col5\" >0</td>\n",
              "      <td id=\"T_babc9_row3_col6\" class=\"data row3 col6\" >0</td>\n",
              "      <td id=\"T_babc9_row3_col7\" class=\"data row3 col7\" >0</td>\n",
              "      <td id=\"T_babc9_row3_col8\" class=\"data row3 col8\" >0</td>\n",
              "      <td id=\"T_babc9_row3_col9\" class=\"data row3 col9\" >1</td>\n",
              "    </tr>\n",
              "    <tr>\n",
              "      <th id=\"T_babc9_level0_row4\" class=\"row_heading level0 row4\" >4</th>\n",
              "      <td id=\"T_babc9_row4_col0\" class=\"data row4 col0\" >0</td>\n",
              "      <td id=\"T_babc9_row4_col1\" class=\"data row4 col1\" >0</td>\n",
              "      <td id=\"T_babc9_row4_col2\" class=\"data row4 col2\" >0</td>\n",
              "      <td id=\"T_babc9_row4_col3\" class=\"data row4 col3\" >0</td>\n",
              "      <td id=\"T_babc9_row4_col4\" class=\"data row4 col4\" >1</td>\n",
              "      <td id=\"T_babc9_row4_col5\" class=\"data row4 col5\" >0</td>\n",
              "      <td id=\"T_babc9_row4_col6\" class=\"data row4 col6\" >0</td>\n",
              "      <td id=\"T_babc9_row4_col7\" class=\"data row4 col7\" >0</td>\n",
              "      <td id=\"T_babc9_row4_col8\" class=\"data row4 col8\" >0</td>\n",
              "      <td id=\"T_babc9_row4_col9\" class=\"data row4 col9\" >0</td>\n",
              "    </tr>\n",
              "    <tr>\n",
              "      <th id=\"T_babc9_level0_row5\" class=\"row_heading level0 row5\" >5</th>\n",
              "      <td id=\"T_babc9_row5_col0\" class=\"data row5 col0\" >0</td>\n",
              "      <td id=\"T_babc9_row5_col1\" class=\"data row5 col1\" >1</td>\n",
              "      <td id=\"T_babc9_row5_col2\" class=\"data row5 col2\" >0</td>\n",
              "      <td id=\"T_babc9_row5_col3\" class=\"data row5 col3\" >1</td>\n",
              "      <td id=\"T_babc9_row5_col4\" class=\"data row5 col4\" >0</td>\n",
              "      <td id=\"T_babc9_row5_col5\" class=\"data row5 col5\" >0</td>\n",
              "      <td id=\"T_babc9_row5_col6\" class=\"data row5 col6\" >0</td>\n",
              "      <td id=\"T_babc9_row5_col7\" class=\"data row5 col7\" >0</td>\n",
              "      <td id=\"T_babc9_row5_col8\" class=\"data row5 col8\" >0</td>\n",
              "      <td id=\"T_babc9_row5_col9\" class=\"data row5 col9\" >0</td>\n",
              "    </tr>\n",
              "    <tr>\n",
              "      <th id=\"T_babc9_level0_row6\" class=\"row_heading level0 row6\" >6</th>\n",
              "      <td id=\"T_babc9_row6_col0\" class=\"data row6 col0\" >0</td>\n",
              "      <td id=\"T_babc9_row6_col1\" class=\"data row6 col1\" >0</td>\n",
              "      <td id=\"T_babc9_row6_col2\" class=\"data row6 col2\" >0</td>\n",
              "      <td id=\"T_babc9_row6_col3\" class=\"data row6 col3\" >0</td>\n",
              "      <td id=\"T_babc9_row6_col4\" class=\"data row6 col4\" >0</td>\n",
              "      <td id=\"T_babc9_row6_col5\" class=\"data row6 col5\" >0</td>\n",
              "      <td id=\"T_babc9_row6_col6\" class=\"data row6 col6\" >0</td>\n",
              "      <td id=\"T_babc9_row6_col7\" class=\"data row6 col7\" >0</td>\n",
              "      <td id=\"T_babc9_row6_col8\" class=\"data row6 col8\" >0</td>\n",
              "      <td id=\"T_babc9_row6_col9\" class=\"data row6 col9\" >0</td>\n",
              "    </tr>\n",
              "    <tr>\n",
              "      <th id=\"T_babc9_level0_row7\" class=\"row_heading level0 row7\" >7</th>\n",
              "      <td id=\"T_babc9_row7_col0\" class=\"data row7 col0\" >0</td>\n",
              "      <td id=\"T_babc9_row7_col1\" class=\"data row7 col1\" >1</td>\n",
              "      <td id=\"T_babc9_row7_col2\" class=\"data row7 col2\" >1</td>\n",
              "      <td id=\"T_babc9_row7_col3\" class=\"data row7 col3\" >1</td>\n",
              "      <td id=\"T_babc9_row7_col4\" class=\"data row7 col4\" >0</td>\n",
              "      <td id=\"T_babc9_row7_col5\" class=\"data row7 col5\" >0</td>\n",
              "      <td id=\"T_babc9_row7_col6\" class=\"data row7 col6\" >1</td>\n",
              "      <td id=\"T_babc9_row7_col7\" class=\"data row7 col7\" >0</td>\n",
              "      <td id=\"T_babc9_row7_col8\" class=\"data row7 col8\" >1</td>\n",
              "      <td id=\"T_babc9_row7_col9\" class=\"data row7 col9\" >0</td>\n",
              "    </tr>\n",
              "    <tr>\n",
              "      <th id=\"T_babc9_level0_row8\" class=\"row_heading level0 row8\" >8</th>\n",
              "      <td id=\"T_babc9_row8_col0\" class=\"data row8 col0\" >1</td>\n",
              "      <td id=\"T_babc9_row8_col1\" class=\"data row8 col1\" >0</td>\n",
              "      <td id=\"T_babc9_row8_col2\" class=\"data row8 col2\" >0</td>\n",
              "      <td id=\"T_babc9_row8_col3\" class=\"data row8 col3\" >1</td>\n",
              "      <td id=\"T_babc9_row8_col4\" class=\"data row8 col4\" >1</td>\n",
              "      <td id=\"T_babc9_row8_col5\" class=\"data row8 col5\" >0</td>\n",
              "      <td id=\"T_babc9_row8_col6\" class=\"data row8 col6\" >0</td>\n",
              "      <td id=\"T_babc9_row8_col7\" class=\"data row8 col7\" >0</td>\n",
              "      <td id=\"T_babc9_row8_col8\" class=\"data row8 col8\" >0</td>\n",
              "      <td id=\"T_babc9_row8_col9\" class=\"data row8 col9\" >0</td>\n",
              "    </tr>\n",
              "    <tr>\n",
              "      <th id=\"T_babc9_level0_row9\" class=\"row_heading level0 row9\" >9</th>\n",
              "      <td id=\"T_babc9_row9_col0\" class=\"data row9 col0\" >1</td>\n",
              "      <td id=\"T_babc9_row9_col1\" class=\"data row9 col1\" >0</td>\n",
              "      <td id=\"T_babc9_row9_col2\" class=\"data row9 col2\" >1</td>\n",
              "      <td id=\"T_babc9_row9_col3\" class=\"data row9 col3\" >0</td>\n",
              "      <td id=\"T_babc9_row9_col4\" class=\"data row9 col4\" >0</td>\n",
              "      <td id=\"T_babc9_row9_col5\" class=\"data row9 col5\" >0</td>\n",
              "      <td id=\"T_babc9_row9_col6\" class=\"data row9 col6\" >0</td>\n",
              "      <td id=\"T_babc9_row9_col7\" class=\"data row9 col7\" >0</td>\n",
              "      <td id=\"T_babc9_row9_col8\" class=\"data row9 col8\" >1</td>\n",
              "      <td id=\"T_babc9_row9_col9\" class=\"data row9 col9\" >0</td>\n",
              "    </tr>\n",
              "    <tr>\n",
              "      <th id=\"T_babc9_level0_row10\" class=\"row_heading level0 row10\" >10</th>\n",
              "      <td id=\"T_babc9_row10_col0\" class=\"data row10 col0\" >0</td>\n",
              "      <td id=\"T_babc9_row10_col1\" class=\"data row10 col1\" >0</td>\n",
              "      <td id=\"T_babc9_row10_col2\" class=\"data row10 col2\" >0</td>\n",
              "      <td id=\"T_babc9_row10_col3\" class=\"data row10 col3\" >0</td>\n",
              "      <td id=\"T_babc9_row10_col4\" class=\"data row10 col4\" >0</td>\n",
              "      <td id=\"T_babc9_row10_col5\" class=\"data row10 col5\" >1</td>\n",
              "      <td id=\"T_babc9_row10_col6\" class=\"data row10 col6\" >0</td>\n",
              "      <td id=\"T_babc9_row10_col7\" class=\"data row10 col7\" >1</td>\n",
              "      <td id=\"T_babc9_row10_col8\" class=\"data row10 col8\" >0</td>\n",
              "      <td id=\"T_babc9_row10_col9\" class=\"data row10 col9\" >0</td>\n",
              "    </tr>\n",
              "    <tr>\n",
              "      <th id=\"T_babc9_level0_row11\" class=\"row_heading level0 row11\" >11</th>\n",
              "      <td id=\"T_babc9_row11_col0\" class=\"data row11 col0\" >0</td>\n",
              "      <td id=\"T_babc9_row11_col1\" class=\"data row11 col1\" >0</td>\n",
              "      <td id=\"T_babc9_row11_col2\" class=\"data row11 col2\" >0</td>\n",
              "      <td id=\"T_babc9_row11_col3\" class=\"data row11 col3\" >0</td>\n",
              "      <td id=\"T_babc9_row11_col4\" class=\"data row11 col4\" >0</td>\n",
              "      <td id=\"T_babc9_row11_col5\" class=\"data row11 col5\" >0</td>\n",
              "      <td id=\"T_babc9_row11_col6\" class=\"data row11 col6\" >1</td>\n",
              "      <td id=\"T_babc9_row11_col7\" class=\"data row11 col7\" >0</td>\n",
              "      <td id=\"T_babc9_row11_col8\" class=\"data row11 col8\" >0</td>\n",
              "      <td id=\"T_babc9_row11_col9\" class=\"data row11 col9\" >1</td>\n",
              "    </tr>\n",
              "    <tr>\n",
              "      <th id=\"T_babc9_level0_row12\" class=\"row_heading level0 row12\" >12</th>\n",
              "      <td id=\"T_babc9_row12_col0\" class=\"data row12 col0\" >0</td>\n",
              "      <td id=\"T_babc9_row12_col1\" class=\"data row12 col1\" >0</td>\n",
              "      <td id=\"T_babc9_row12_col2\" class=\"data row12 col2\" >0</td>\n",
              "      <td id=\"T_babc9_row12_col3\" class=\"data row12 col3\" >0</td>\n",
              "      <td id=\"T_babc9_row12_col4\" class=\"data row12 col4\" >1</td>\n",
              "      <td id=\"T_babc9_row12_col5\" class=\"data row12 col5\" >1</td>\n",
              "      <td id=\"T_babc9_row12_col6\" class=\"data row12 col6\" >0</td>\n",
              "      <td id=\"T_babc9_row12_col7\" class=\"data row12 col7\" >1</td>\n",
              "      <td id=\"T_babc9_row12_col8\" class=\"data row12 col8\" >0</td>\n",
              "      <td id=\"T_babc9_row12_col9\" class=\"data row12 col9\" >0</td>\n",
              "    </tr>\n",
              "    <tr>\n",
              "      <th id=\"T_babc9_level0_row13\" class=\"row_heading level0 row13\" >13</th>\n",
              "      <td id=\"T_babc9_row13_col0\" class=\"data row13 col0\" >0</td>\n",
              "      <td id=\"T_babc9_row13_col1\" class=\"data row13 col1\" >0</td>\n",
              "      <td id=\"T_babc9_row13_col2\" class=\"data row13 col2\" >0</td>\n",
              "      <td id=\"T_babc9_row13_col3\" class=\"data row13 col3\" >0</td>\n",
              "      <td id=\"T_babc9_row13_col4\" class=\"data row13 col4\" >0</td>\n",
              "      <td id=\"T_babc9_row13_col5\" class=\"data row13 col5\" >0</td>\n",
              "      <td id=\"T_babc9_row13_col6\" class=\"data row13 col6\" >0</td>\n",
              "      <td id=\"T_babc9_row13_col7\" class=\"data row13 col7\" >1</td>\n",
              "      <td id=\"T_babc9_row13_col8\" class=\"data row13 col8\" >1</td>\n",
              "      <td id=\"T_babc9_row13_col9\" class=\"data row13 col9\" >0</td>\n",
              "    </tr>\n",
              "    <tr>\n",
              "      <th id=\"T_babc9_level0_row14\" class=\"row_heading level0 row14\" >14</th>\n",
              "      <td id=\"T_babc9_row14_col0\" class=\"data row14 col0\" >1</td>\n",
              "      <td id=\"T_babc9_row14_col1\" class=\"data row14 col1\" >0</td>\n",
              "      <td id=\"T_babc9_row14_col2\" class=\"data row14 col2\" >0</td>\n",
              "      <td id=\"T_babc9_row14_col3\" class=\"data row14 col3\" >0</td>\n",
              "      <td id=\"T_babc9_row14_col4\" class=\"data row14 col4\" >0</td>\n",
              "      <td id=\"T_babc9_row14_col5\" class=\"data row14 col5\" >0</td>\n",
              "      <td id=\"T_babc9_row14_col6\" class=\"data row14 col6\" >1</td>\n",
              "      <td id=\"T_babc9_row14_col7\" class=\"data row14 col7\" >0</td>\n",
              "      <td id=\"T_babc9_row14_col8\" class=\"data row14 col8\" >0</td>\n",
              "      <td id=\"T_babc9_row14_col9\" class=\"data row14 col9\" >0</td>\n",
              "    </tr>\n",
              "  </tbody>\n",
              "</table>\n"
            ]
          },
          "metadata": {},
          "execution_count": 312
        }
      ],
      "source": [
        "# 創建一個空的 DataFrame 來存放結果\n",
        "result_df = pd.DataFrame(0, index=df.index, columns=df.columns)\n",
        "\n",
        "# 將解中為 1 的變數對應的位置設置為 1\n",
        "for employee, workday in x.keys():\n",
        "    if x[employee, workday].X == 1:\n",
        "        result_df.loc[employee, workday] = 1\n",
        "\n",
        "# 結果\n",
        "print(\"班表:\")\n",
        "result_df.style.applymap(highlight_availability)"
      ]
    },
    {
      "cell_type": "code",
      "execution_count": 313,
      "id": "c144def8",
      "metadata": {
        "ExecuteTime": {
          "end_time": "2023-06-07T15:03:52.822177Z",
          "start_time": "2023-06-07T15:03:52.799165Z"
        },
        "colab": {
          "base_uri": "https://localhost:8080/"
        },
        "id": "c144def8",
        "outputId": "561b7add-3398-448e-ad8d-673922eeebc6"
      },
      "outputs": [
        {
          "output_type": "stream",
          "name": "stdout",
          "text": [
            "工作天數全距: 5 天\n",
            "人事成本49600 元\n"
          ]
        }
      ],
      "source": [
        "print(f'工作天數全距: {result_df.sum(axis=1).max() - result_df.sum(axis=1).min()} 天')\n",
        "print(f'人事成本{daily_wage * result_df.sum().sum()} 元')"
      ]
    },
    {
      "cell_type": "code",
      "source": [
        "# 輸出班表\n",
        "result_df.to_csv('考慮目標二班表.csv')"
      ],
      "metadata": {
        "id": "agd9yXmBORdY"
      },
      "id": "agd9yXmBORdY",
      "execution_count": 314,
      "outputs": []
    },
    {
      "cell_type": "markdown",
      "id": "7971b08e",
      "metadata": {
        "id": "7971b08e"
      },
      "source": [
        "---"
      ]
    },
    {
      "cell_type": "markdown",
      "id": "403435dc",
      "metadata": {
        "id": "403435dc"
      },
      "source": [
        "# **3. 多目標規劃: G1 + G2 同時考慮**"
      ]
    },
    {
      "cell_type": "code",
      "execution_count": 315,
      "id": "38f0dcd0",
      "metadata": {
        "ExecuteTime": {
          "end_time": "2023-06-07T15:03:52.853120Z",
          "start_time": "2023-06-07T15:03:52.826172Z"
        },
        "id": "38f0dcd0"
      },
      "outputs": [],
      "source": [
        "# 建模\n",
        "m3 = Model('員工排班')\n",
        "\n",
        "# Decision Variable\n",
        "x = m3.addVars(df.index, df.columns, vtype = GRB.BINARY, name = 'x')\n",
        "\n",
        "for employee in df.index:\n",
        "    for workday in df.columns:\n",
        "        if df.loc[employee, workday] != 1:\n",
        "            x[employee, workday].UB = 0  # 設置不可上班的變數上限為 0\n",
        "            "
      ]
    },
    {
      "cell_type": "code",
      "execution_count": 316,
      "id": "582db886",
      "metadata": {
        "ExecuteTime": {
          "end_time": "2023-06-07T15:03:52.873261Z",
          "start_time": "2023-06-07T15:03:52.856111Z"
        },
        "id": "582db886"
      },
      "outputs": [],
      "source": [
        "# Auxiliary Variable\n",
        "totalWorkdays = m3.addVars(df.sum(axis=1).index, name=\"TotalWorkdays\")\n",
        "minWorkday = m3.addVar(name='minWorkday')\n",
        "maxWorkday = m3.addVar(name='maxWorkday')\n",
        "n1 = m3.addVar(lb = 0, name='n1')\n",
        "p1 = m3.addVar(lb = 0, name='p1')\n",
        "n2 = m3.addVar(lb = 0, name = 'n2')\n",
        "p2 = m3.addVar(lb = 0, name = 'p2')"
      ]
    },
    {
      "cell_type": "code",
      "execution_count": 317,
      "id": "7e1cfca2",
      "metadata": {
        "ExecuteTime": {
          "end_time": "2023-06-07T15:03:52.898091Z",
          "start_time": "2023-06-07T15:03:52.877253Z"
        },
        "id": "7e1cfca2"
      },
      "outputs": [],
      "source": [
        "# 限制式: 每個工作日都需要有一定數量的員工上班\n",
        "workday_requirement = m3.addConstrs((x.sum('*', w) >= workdayRequirements[w] for w in df.columns),\n",
        "                                   name = 'workdayRequirement')\n",
        "\n",
        "# 限制式: 每個員工可出席的工作日總數\n",
        "num_workdays = m3.addConstrs((x.sum(e, '*') == totalWorkdays[e] for e in df.index), name='totalWorkdays')\n",
        "\n",
        "min_workday = m3.addGenConstrMin(minWorkday, totalWorkdays, name = 'minWorkdays')\n",
        "max_workday = m3.addGenConstrMax(maxWorkday, totalWorkdays, name = 'maxWorkdays')\n",
        "\n",
        "# 限制式: 目標函數\n",
        "goal1 = m3.addConstr(((maxWorkday - minWorkday) + n1 - p1 == 1), name='goal1')\n",
        "\n",
        "# 限制式: 目標函數\n",
        "goal2 = m3.addConstr((daily_wage*totalWorkdays.sum() + n2 - p2 == 50000), name='goal2')"
      ]
    },
    {
      "cell_type": "code",
      "execution_count": 318,
      "id": "a029a604",
      "metadata": {
        "ExecuteTime": {
          "end_time": "2023-06-07T15:03:52.955005Z",
          "start_time": "2023-06-07T15:03:52.901545Z"
        },
        "colab": {
          "base_uri": "https://localhost:8080/"
        },
        "id": "a029a604",
        "outputId": "17eca465-677a-4687-961a-1da2add76163"
      },
      "outputs": [
        {
          "output_type": "stream",
          "name": "stdout",
          "text": [
            "Gurobi Optimizer version 10.0.1 build v10.0.1rc0 (linux64)\n",
            "\n",
            "CPU model: AMD EPYC 7B12, instruction set [SSE2|AVX|AVX2]\n",
            "Thread count: 1 physical cores, 2 logical processors, using up to 2 threads\n",
            "\n",
            "Optimize a model with 27 rows, 171 columns and 336 nonzeros\n",
            "Model fingerprint: 0xd562b646\n",
            "Model has 2 general constraints\n",
            "Variable types: 21 continuous, 150 integer (150 binary)\n",
            "Coefficient statistics:\n",
            "  Matrix range     [1e+00, 2e+03]\n",
            "  Objective range  [1e+01, 1e+01]\n",
            "  Bounds range     [1e+00, 1e+00]\n",
            "  RHS range        [1e+00, 5e+04]\n",
            "Presolve added 27 rows and 0 columns\n",
            "Presolve removed 0 rows and 99 columns\n",
            "Presolve time: 0.00s\n",
            "Presolved: 54 rows, 72 columns, 205 nonzeros\n",
            "Variable types: 0 continuous, 72 integer (56 binary)\n",
            "Found heuristic solution: objective 40.0000000\n",
            "\n",
            "Root relaxation: objective 0.000000e+00, 52 iterations, 0.00 seconds (0.00 work units)\n",
            "\n",
            "    Nodes    |    Current Node    |     Objective Bounds      |     Work\n",
            " Expl Unexpl |  Obj  Depth IntInf | Incumbent    BestBd   Gap | It/Node Time\n",
            "\n",
            "H    0     0                       0.0000000  -20.00000      -     -    0s\n",
            "     0     0    0.00000    0   26    0.00000    0.00000  0.00%     -    0s\n",
            "\n",
            "Explored 1 nodes (52 simplex iterations) in 0.04 seconds (0.00 work units)\n",
            "Thread count was 2 (of 2 available processors)\n",
            "\n",
            "Solution count 2: 0 40 \n",
            "\n",
            "Optimal solution found (tolerance 1.00e-04)\n",
            "Best objective 0.000000000000e+00, best bound 0.000000000000e+00, gap 0.0000%\n"
          ]
        }
      ],
      "source": [
        "# 目標式\n",
        "m3.setObjective(0*n1 + 10*p1 + 0*n2 + 10*p2, GRB.MINIMIZE)\n",
        "\n",
        "m3.optimize()"
      ]
    },
    {
      "cell_type": "code",
      "execution_count": 319,
      "id": "6eadab98",
      "metadata": {
        "ExecuteTime": {
          "end_time": "2023-06-07T15:03:52.983513Z",
          "start_time": "2023-06-07T15:03:52.955005Z"
        },
        "colab": {
          "base_uri": "https://localhost:8080/",
          "height": 569
        },
        "id": "6eadab98",
        "outputId": "8b336e59-7e58-4bad-8bf3-7d4c76c2ee0d"
      },
      "outputs": [
        {
          "output_type": "stream",
          "name": "stdout",
          "text": [
            "班表:\n"
          ]
        },
        {
          "output_type": "execute_result",
          "data": {
            "text/plain": [
              "<pandas.io.formats.style.Styler at 0x7f8afb7f9f30>"
            ],
            "text/html": [
              "<style type=\"text/css\">\n",
              "#T_205cc_row0_col2, #T_205cc_row0_col9, #T_205cc_row1_col1, #T_205cc_row1_col2, #T_205cc_row2_col0, #T_205cc_row2_col6, #T_205cc_row3_col4, #T_205cc_row3_col8, #T_205cc_row4_col0, #T_205cc_row4_col4, #T_205cc_row5_col1, #T_205cc_row5_col2, #T_205cc_row6_col1, #T_205cc_row6_col3, #T_205cc_row7_col1, #T_205cc_row7_col8, #T_205cc_row8_col4, #T_205cc_row8_col5, #T_205cc_row9_col8, #T_205cc_row9_col9, #T_205cc_row10_col3, #T_205cc_row10_col7, #T_205cc_row11_col5, #T_205cc_row11_col6, #T_205cc_row12_col4, #T_205cc_row12_col7, #T_205cc_row13_col3, #T_205cc_row13_col7, #T_205cc_row14_col0, #T_205cc_row14_col6 {\n",
              "  background-color: gray;\n",
              "}\n",
              "</style>\n",
              "<table id=\"T_205cc\" class=\"dataframe\">\n",
              "  <thead>\n",
              "    <tr>\n",
              "      <th class=\"index_name level0\" >WorkDay</th>\n",
              "      <th id=\"T_205cc_level0_col0\" class=\"col_heading level0 col0\" >1</th>\n",
              "      <th id=\"T_205cc_level0_col1\" class=\"col_heading level0 col1\" >2</th>\n",
              "      <th id=\"T_205cc_level0_col2\" class=\"col_heading level0 col2\" >3</th>\n",
              "      <th id=\"T_205cc_level0_col3\" class=\"col_heading level0 col3\" >4</th>\n",
              "      <th id=\"T_205cc_level0_col4\" class=\"col_heading level0 col4\" >5</th>\n",
              "      <th id=\"T_205cc_level0_col5\" class=\"col_heading level0 col5\" >6</th>\n",
              "      <th id=\"T_205cc_level0_col6\" class=\"col_heading level0 col6\" >7</th>\n",
              "      <th id=\"T_205cc_level0_col7\" class=\"col_heading level0 col7\" >8</th>\n",
              "      <th id=\"T_205cc_level0_col8\" class=\"col_heading level0 col8\" >9</th>\n",
              "      <th id=\"T_205cc_level0_col9\" class=\"col_heading level0 col9\" >10</th>\n",
              "    </tr>\n",
              "    <tr>\n",
              "      <th class=\"index_name level0\" >Employee</th>\n",
              "      <th class=\"blank col0\" >&nbsp;</th>\n",
              "      <th class=\"blank col1\" >&nbsp;</th>\n",
              "      <th class=\"blank col2\" >&nbsp;</th>\n",
              "      <th class=\"blank col3\" >&nbsp;</th>\n",
              "      <th class=\"blank col4\" >&nbsp;</th>\n",
              "      <th class=\"blank col5\" >&nbsp;</th>\n",
              "      <th class=\"blank col6\" >&nbsp;</th>\n",
              "      <th class=\"blank col7\" >&nbsp;</th>\n",
              "      <th class=\"blank col8\" >&nbsp;</th>\n",
              "      <th class=\"blank col9\" >&nbsp;</th>\n",
              "    </tr>\n",
              "  </thead>\n",
              "  <tbody>\n",
              "    <tr>\n",
              "      <th id=\"T_205cc_level0_row0\" class=\"row_heading level0 row0\" >0</th>\n",
              "      <td id=\"T_205cc_row0_col0\" class=\"data row0 col0\" >0</td>\n",
              "      <td id=\"T_205cc_row0_col1\" class=\"data row0 col1\" >0</td>\n",
              "      <td id=\"T_205cc_row0_col2\" class=\"data row0 col2\" >1</td>\n",
              "      <td id=\"T_205cc_row0_col3\" class=\"data row0 col3\" >0</td>\n",
              "      <td id=\"T_205cc_row0_col4\" class=\"data row0 col4\" >0</td>\n",
              "      <td id=\"T_205cc_row0_col5\" class=\"data row0 col5\" >0</td>\n",
              "      <td id=\"T_205cc_row0_col6\" class=\"data row0 col6\" >0</td>\n",
              "      <td id=\"T_205cc_row0_col7\" class=\"data row0 col7\" >0</td>\n",
              "      <td id=\"T_205cc_row0_col8\" class=\"data row0 col8\" >0</td>\n",
              "      <td id=\"T_205cc_row0_col9\" class=\"data row0 col9\" >1</td>\n",
              "    </tr>\n",
              "    <tr>\n",
              "      <th id=\"T_205cc_level0_row1\" class=\"row_heading level0 row1\" >1</th>\n",
              "      <td id=\"T_205cc_row1_col0\" class=\"data row1 col0\" >0</td>\n",
              "      <td id=\"T_205cc_row1_col1\" class=\"data row1 col1\" >1</td>\n",
              "      <td id=\"T_205cc_row1_col2\" class=\"data row1 col2\" >1</td>\n",
              "      <td id=\"T_205cc_row1_col3\" class=\"data row1 col3\" >0</td>\n",
              "      <td id=\"T_205cc_row1_col4\" class=\"data row1 col4\" >0</td>\n",
              "      <td id=\"T_205cc_row1_col5\" class=\"data row1 col5\" >0</td>\n",
              "      <td id=\"T_205cc_row1_col6\" class=\"data row1 col6\" >0</td>\n",
              "      <td id=\"T_205cc_row1_col7\" class=\"data row1 col7\" >0</td>\n",
              "      <td id=\"T_205cc_row1_col8\" class=\"data row1 col8\" >0</td>\n",
              "      <td id=\"T_205cc_row1_col9\" class=\"data row1 col9\" >0</td>\n",
              "    </tr>\n",
              "    <tr>\n",
              "      <th id=\"T_205cc_level0_row2\" class=\"row_heading level0 row2\" >2</th>\n",
              "      <td id=\"T_205cc_row2_col0\" class=\"data row2 col0\" >1</td>\n",
              "      <td id=\"T_205cc_row2_col1\" class=\"data row2 col1\" >0</td>\n",
              "      <td id=\"T_205cc_row2_col2\" class=\"data row2 col2\" >0</td>\n",
              "      <td id=\"T_205cc_row2_col3\" class=\"data row2 col3\" >0</td>\n",
              "      <td id=\"T_205cc_row2_col4\" class=\"data row2 col4\" >0</td>\n",
              "      <td id=\"T_205cc_row2_col5\" class=\"data row2 col5\" >0</td>\n",
              "      <td id=\"T_205cc_row2_col6\" class=\"data row2 col6\" >1</td>\n",
              "      <td id=\"T_205cc_row2_col7\" class=\"data row2 col7\" >0</td>\n",
              "      <td id=\"T_205cc_row2_col8\" class=\"data row2 col8\" >0</td>\n",
              "      <td id=\"T_205cc_row2_col9\" class=\"data row2 col9\" >0</td>\n",
              "    </tr>\n",
              "    <tr>\n",
              "      <th id=\"T_205cc_level0_row3\" class=\"row_heading level0 row3\" >3</th>\n",
              "      <td id=\"T_205cc_row3_col0\" class=\"data row3 col0\" >0</td>\n",
              "      <td id=\"T_205cc_row3_col1\" class=\"data row3 col1\" >0</td>\n",
              "      <td id=\"T_205cc_row3_col2\" class=\"data row3 col2\" >0</td>\n",
              "      <td id=\"T_205cc_row3_col3\" class=\"data row3 col3\" >0</td>\n",
              "      <td id=\"T_205cc_row3_col4\" class=\"data row3 col4\" >1</td>\n",
              "      <td id=\"T_205cc_row3_col5\" class=\"data row3 col5\" >0</td>\n",
              "      <td id=\"T_205cc_row3_col6\" class=\"data row3 col6\" >0</td>\n",
              "      <td id=\"T_205cc_row3_col7\" class=\"data row3 col7\" >0</td>\n",
              "      <td id=\"T_205cc_row3_col8\" class=\"data row3 col8\" >1</td>\n",
              "      <td id=\"T_205cc_row3_col9\" class=\"data row3 col9\" >0</td>\n",
              "    </tr>\n",
              "    <tr>\n",
              "      <th id=\"T_205cc_level0_row4\" class=\"row_heading level0 row4\" >4</th>\n",
              "      <td id=\"T_205cc_row4_col0\" class=\"data row4 col0\" >1</td>\n",
              "      <td id=\"T_205cc_row4_col1\" class=\"data row4 col1\" >0</td>\n",
              "      <td id=\"T_205cc_row4_col2\" class=\"data row4 col2\" >0</td>\n",
              "      <td id=\"T_205cc_row4_col3\" class=\"data row4 col3\" >0</td>\n",
              "      <td id=\"T_205cc_row4_col4\" class=\"data row4 col4\" >1</td>\n",
              "      <td id=\"T_205cc_row4_col5\" class=\"data row4 col5\" >0</td>\n",
              "      <td id=\"T_205cc_row4_col6\" class=\"data row4 col6\" >0</td>\n",
              "      <td id=\"T_205cc_row4_col7\" class=\"data row4 col7\" >0</td>\n",
              "      <td id=\"T_205cc_row4_col8\" class=\"data row4 col8\" >0</td>\n",
              "      <td id=\"T_205cc_row4_col9\" class=\"data row4 col9\" >0</td>\n",
              "    </tr>\n",
              "    <tr>\n",
              "      <th id=\"T_205cc_level0_row5\" class=\"row_heading level0 row5\" >5</th>\n",
              "      <td id=\"T_205cc_row5_col0\" class=\"data row5 col0\" >0</td>\n",
              "      <td id=\"T_205cc_row5_col1\" class=\"data row5 col1\" >1</td>\n",
              "      <td id=\"T_205cc_row5_col2\" class=\"data row5 col2\" >1</td>\n",
              "      <td id=\"T_205cc_row5_col3\" class=\"data row5 col3\" >0</td>\n",
              "      <td id=\"T_205cc_row5_col4\" class=\"data row5 col4\" >0</td>\n",
              "      <td id=\"T_205cc_row5_col5\" class=\"data row5 col5\" >0</td>\n",
              "      <td id=\"T_205cc_row5_col6\" class=\"data row5 col6\" >0</td>\n",
              "      <td id=\"T_205cc_row5_col7\" class=\"data row5 col7\" >0</td>\n",
              "      <td id=\"T_205cc_row5_col8\" class=\"data row5 col8\" >0</td>\n",
              "      <td id=\"T_205cc_row5_col9\" class=\"data row5 col9\" >0</td>\n",
              "    </tr>\n",
              "    <tr>\n",
              "      <th id=\"T_205cc_level0_row6\" class=\"row_heading level0 row6\" >6</th>\n",
              "      <td id=\"T_205cc_row6_col0\" class=\"data row6 col0\" >0</td>\n",
              "      <td id=\"T_205cc_row6_col1\" class=\"data row6 col1\" >1</td>\n",
              "      <td id=\"T_205cc_row6_col2\" class=\"data row6 col2\" >0</td>\n",
              "      <td id=\"T_205cc_row6_col3\" class=\"data row6 col3\" >1</td>\n",
              "      <td id=\"T_205cc_row6_col4\" class=\"data row6 col4\" >0</td>\n",
              "      <td id=\"T_205cc_row6_col5\" class=\"data row6 col5\" >0</td>\n",
              "      <td id=\"T_205cc_row6_col6\" class=\"data row6 col6\" >0</td>\n",
              "      <td id=\"T_205cc_row6_col7\" class=\"data row6 col7\" >0</td>\n",
              "      <td id=\"T_205cc_row6_col8\" class=\"data row6 col8\" >0</td>\n",
              "      <td id=\"T_205cc_row6_col9\" class=\"data row6 col9\" >0</td>\n",
              "    </tr>\n",
              "    <tr>\n",
              "      <th id=\"T_205cc_level0_row7\" class=\"row_heading level0 row7\" >7</th>\n",
              "      <td id=\"T_205cc_row7_col0\" class=\"data row7 col0\" >0</td>\n",
              "      <td id=\"T_205cc_row7_col1\" class=\"data row7 col1\" >1</td>\n",
              "      <td id=\"T_205cc_row7_col2\" class=\"data row7 col2\" >0</td>\n",
              "      <td id=\"T_205cc_row7_col3\" class=\"data row7 col3\" >0</td>\n",
              "      <td id=\"T_205cc_row7_col4\" class=\"data row7 col4\" >0</td>\n",
              "      <td id=\"T_205cc_row7_col5\" class=\"data row7 col5\" >0</td>\n",
              "      <td id=\"T_205cc_row7_col6\" class=\"data row7 col6\" >0</td>\n",
              "      <td id=\"T_205cc_row7_col7\" class=\"data row7 col7\" >0</td>\n",
              "      <td id=\"T_205cc_row7_col8\" class=\"data row7 col8\" >1</td>\n",
              "      <td id=\"T_205cc_row7_col9\" class=\"data row7 col9\" >0</td>\n",
              "    </tr>\n",
              "    <tr>\n",
              "      <th id=\"T_205cc_level0_row8\" class=\"row_heading level0 row8\" >8</th>\n",
              "      <td id=\"T_205cc_row8_col0\" class=\"data row8 col0\" >0</td>\n",
              "      <td id=\"T_205cc_row8_col1\" class=\"data row8 col1\" >0</td>\n",
              "      <td id=\"T_205cc_row8_col2\" class=\"data row8 col2\" >0</td>\n",
              "      <td id=\"T_205cc_row8_col3\" class=\"data row8 col3\" >0</td>\n",
              "      <td id=\"T_205cc_row8_col4\" class=\"data row8 col4\" >1</td>\n",
              "      <td id=\"T_205cc_row8_col5\" class=\"data row8 col5\" >1</td>\n",
              "      <td id=\"T_205cc_row8_col6\" class=\"data row8 col6\" >0</td>\n",
              "      <td id=\"T_205cc_row8_col7\" class=\"data row8 col7\" >0</td>\n",
              "      <td id=\"T_205cc_row8_col8\" class=\"data row8 col8\" >0</td>\n",
              "      <td id=\"T_205cc_row8_col9\" class=\"data row8 col9\" >0</td>\n",
              "    </tr>\n",
              "    <tr>\n",
              "      <th id=\"T_205cc_level0_row9\" class=\"row_heading level0 row9\" >9</th>\n",
              "      <td id=\"T_205cc_row9_col0\" class=\"data row9 col0\" >0</td>\n",
              "      <td id=\"T_205cc_row9_col1\" class=\"data row9 col1\" >0</td>\n",
              "      <td id=\"T_205cc_row9_col2\" class=\"data row9 col2\" >0</td>\n",
              "      <td id=\"T_205cc_row9_col3\" class=\"data row9 col3\" >0</td>\n",
              "      <td id=\"T_205cc_row9_col4\" class=\"data row9 col4\" >0</td>\n",
              "      <td id=\"T_205cc_row9_col5\" class=\"data row9 col5\" >0</td>\n",
              "      <td id=\"T_205cc_row9_col6\" class=\"data row9 col6\" >0</td>\n",
              "      <td id=\"T_205cc_row9_col7\" class=\"data row9 col7\" >0</td>\n",
              "      <td id=\"T_205cc_row9_col8\" class=\"data row9 col8\" >1</td>\n",
              "      <td id=\"T_205cc_row9_col9\" class=\"data row9 col9\" >1</td>\n",
              "    </tr>\n",
              "    <tr>\n",
              "      <th id=\"T_205cc_level0_row10\" class=\"row_heading level0 row10\" >10</th>\n",
              "      <td id=\"T_205cc_row10_col0\" class=\"data row10 col0\" >0</td>\n",
              "      <td id=\"T_205cc_row10_col1\" class=\"data row10 col1\" >0</td>\n",
              "      <td id=\"T_205cc_row10_col2\" class=\"data row10 col2\" >0</td>\n",
              "      <td id=\"T_205cc_row10_col3\" class=\"data row10 col3\" >1</td>\n",
              "      <td id=\"T_205cc_row10_col4\" class=\"data row10 col4\" >0</td>\n",
              "      <td id=\"T_205cc_row10_col5\" class=\"data row10 col5\" >0</td>\n",
              "      <td id=\"T_205cc_row10_col6\" class=\"data row10 col6\" >0</td>\n",
              "      <td id=\"T_205cc_row10_col7\" class=\"data row10 col7\" >1</td>\n",
              "      <td id=\"T_205cc_row10_col8\" class=\"data row10 col8\" >0</td>\n",
              "      <td id=\"T_205cc_row10_col9\" class=\"data row10 col9\" >0</td>\n",
              "    </tr>\n",
              "    <tr>\n",
              "      <th id=\"T_205cc_level0_row11\" class=\"row_heading level0 row11\" >11</th>\n",
              "      <td id=\"T_205cc_row11_col0\" class=\"data row11 col0\" >0</td>\n",
              "      <td id=\"T_205cc_row11_col1\" class=\"data row11 col1\" >0</td>\n",
              "      <td id=\"T_205cc_row11_col2\" class=\"data row11 col2\" >0</td>\n",
              "      <td id=\"T_205cc_row11_col3\" class=\"data row11 col3\" >0</td>\n",
              "      <td id=\"T_205cc_row11_col4\" class=\"data row11 col4\" >0</td>\n",
              "      <td id=\"T_205cc_row11_col5\" class=\"data row11 col5\" >1</td>\n",
              "      <td id=\"T_205cc_row11_col6\" class=\"data row11 col6\" >1</td>\n",
              "      <td id=\"T_205cc_row11_col7\" class=\"data row11 col7\" >0</td>\n",
              "      <td id=\"T_205cc_row11_col8\" class=\"data row11 col8\" >0</td>\n",
              "      <td id=\"T_205cc_row11_col9\" class=\"data row11 col9\" >0</td>\n",
              "    </tr>\n",
              "    <tr>\n",
              "      <th id=\"T_205cc_level0_row12\" class=\"row_heading level0 row12\" >12</th>\n",
              "      <td id=\"T_205cc_row12_col0\" class=\"data row12 col0\" >0</td>\n",
              "      <td id=\"T_205cc_row12_col1\" class=\"data row12 col1\" >0</td>\n",
              "      <td id=\"T_205cc_row12_col2\" class=\"data row12 col2\" >0</td>\n",
              "      <td id=\"T_205cc_row12_col3\" class=\"data row12 col3\" >0</td>\n",
              "      <td id=\"T_205cc_row12_col4\" class=\"data row12 col4\" >1</td>\n",
              "      <td id=\"T_205cc_row12_col5\" class=\"data row12 col5\" >0</td>\n",
              "      <td id=\"T_205cc_row12_col6\" class=\"data row12 col6\" >0</td>\n",
              "      <td id=\"T_205cc_row12_col7\" class=\"data row12 col7\" >1</td>\n",
              "      <td id=\"T_205cc_row12_col8\" class=\"data row12 col8\" >0</td>\n",
              "      <td id=\"T_205cc_row12_col9\" class=\"data row12 col9\" >0</td>\n",
              "    </tr>\n",
              "    <tr>\n",
              "      <th id=\"T_205cc_level0_row13\" class=\"row_heading level0 row13\" >13</th>\n",
              "      <td id=\"T_205cc_row13_col0\" class=\"data row13 col0\" >0</td>\n",
              "      <td id=\"T_205cc_row13_col1\" class=\"data row13 col1\" >0</td>\n",
              "      <td id=\"T_205cc_row13_col2\" class=\"data row13 col2\" >0</td>\n",
              "      <td id=\"T_205cc_row13_col3\" class=\"data row13 col3\" >1</td>\n",
              "      <td id=\"T_205cc_row13_col4\" class=\"data row13 col4\" >0</td>\n",
              "      <td id=\"T_205cc_row13_col5\" class=\"data row13 col5\" >0</td>\n",
              "      <td id=\"T_205cc_row13_col6\" class=\"data row13 col6\" >0</td>\n",
              "      <td id=\"T_205cc_row13_col7\" class=\"data row13 col7\" >1</td>\n",
              "      <td id=\"T_205cc_row13_col8\" class=\"data row13 col8\" >0</td>\n",
              "      <td id=\"T_205cc_row13_col9\" class=\"data row13 col9\" >0</td>\n",
              "    </tr>\n",
              "    <tr>\n",
              "      <th id=\"T_205cc_level0_row14\" class=\"row_heading level0 row14\" >14</th>\n",
              "      <td id=\"T_205cc_row14_col0\" class=\"data row14 col0\" >1</td>\n",
              "      <td id=\"T_205cc_row14_col1\" class=\"data row14 col1\" >0</td>\n",
              "      <td id=\"T_205cc_row14_col2\" class=\"data row14 col2\" >0</td>\n",
              "      <td id=\"T_205cc_row14_col3\" class=\"data row14 col3\" >0</td>\n",
              "      <td id=\"T_205cc_row14_col4\" class=\"data row14 col4\" >0</td>\n",
              "      <td id=\"T_205cc_row14_col5\" class=\"data row14 col5\" >0</td>\n",
              "      <td id=\"T_205cc_row14_col6\" class=\"data row14 col6\" >1</td>\n",
              "      <td id=\"T_205cc_row14_col7\" class=\"data row14 col7\" >0</td>\n",
              "      <td id=\"T_205cc_row14_col8\" class=\"data row14 col8\" >0</td>\n",
              "      <td id=\"T_205cc_row14_col9\" class=\"data row14 col9\" >0</td>\n",
              "    </tr>\n",
              "  </tbody>\n",
              "</table>\n"
            ]
          },
          "metadata": {},
          "execution_count": 319
        }
      ],
      "source": [
        "# 創建一個空的 DataFrame 來存放結果\n",
        "result_df = pd.DataFrame(0, index=df.index, columns=df.columns)\n",
        "\n",
        "# 將解中為 1 的變數對應的位置設置為 1\n",
        "for employee, workday in x.keys():\n",
        "    if x[employee, workday].X == 1:\n",
        "        result_df.loc[employee, workday] = 1\n",
        "\n",
        "# 結果\n",
        "print(\"班表:\")\n",
        "result_df.style.applymap(highlight_availability)"
      ]
    },
    {
      "cell_type": "code",
      "execution_count": 320,
      "id": "8b9e0610",
      "metadata": {
        "ExecuteTime": {
          "end_time": "2023-06-07T15:03:52.998522Z",
          "start_time": "2023-06-07T15:03:52.983513Z"
        },
        "colab": {
          "base_uri": "https://localhost:8080/"
        },
        "id": "8b9e0610",
        "outputId": "e02615a0-6747-4b68-f4a1-58b9e55e8a96"
      },
      "outputs": [
        {
          "output_type": "stream",
          "name": "stdout",
          "text": [
            "工作天數全距: 0 天\n",
            "人事成本: 48000 元\n"
          ]
        }
      ],
      "source": [
        "print(f'工作天數全距: {result_df.sum(axis=1).max() - result_df.sum(axis=1).min()} 天')\n",
        "print(f'人事成本: {daily_wage * result_df.sum().sum()} 元')"
      ]
    },
    {
      "cell_type": "code",
      "source": [
        "# 輸出班表\n",
        "result_df.to_csv('考慮目標一及目標二班表.csv')"
      ],
      "metadata": {
        "id": "qL6NxKuDOUa0"
      },
      "id": "qL6NxKuDOUa0",
      "execution_count": 321,
      "outputs": []
    }
  ],
  "metadata": {
    "kernelspec": {
      "display_name": "Python 3 (ipykernel)",
      "language": "python",
      "name": "python3"
    },
    "language_info": {
      "codemirror_mode": {
        "name": "ipython",
        "version": 3
      },
      "file_extension": ".py",
      "mimetype": "text/x-python",
      "name": "python",
      "nbconvert_exporter": "python",
      "pygments_lexer": "ipython3",
      "version": "3.9.16"
    },
    "toc": {
      "base_numbering": 1,
      "nav_menu": {},
      "number_sections": true,
      "sideBar": false,
      "skip_h1_title": false,
      "title_cell": "Table of Contents",
      "title_sidebar": "Contents",
      "toc_cell": false,
      "toc_position": {
        "height": "677.892px",
        "left": "9.99178px",
        "top": "150px",
        "width": "337.007px"
      },
      "toc_section_display": false,
      "toc_window_display": false
    },
    "varInspector": {
      "cols": {
        "lenName": 16,
        "lenType": 16,
        "lenVar": 40
      },
      "kernels_config": {
        "python": {
          "delete_cmd_postfix": "",
          "delete_cmd_prefix": "del ",
          "library": "var_list.py",
          "varRefreshCmd": "print(var_dic_list())"
        },
        "r": {
          "delete_cmd_postfix": ") ",
          "delete_cmd_prefix": "rm(",
          "library": "var_list.r",
          "varRefreshCmd": "cat(var_dic_list()) "
        }
      },
      "types_to_exclude": [
        "module",
        "function",
        "builtin_function_or_method",
        "instance",
        "_Feature"
      ],
      "window_display": false
    },
    "colab": {
      "provenance": [],
      "toc_visible": true,
      "include_colab_link": true
    }
  },
  "nbformat": 4,
  "nbformat_minor": 5
}